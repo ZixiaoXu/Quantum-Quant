{
 "cells": [
  {
   "cell_type": "code",
   "execution_count": 43,
   "metadata": {},
   "outputs": [
    {
     "name": "stderr",
     "output_type": "stream",
     "text": [
      "ibmqfactory.load_account:WARNING:2022-11-30 22:55:35,571: Credentials are already in use. The existing account in the session will be replaced.\n"
     ]
    }
   ],
   "source": [
    "%matplotlib inline\n",
    "!pip install --quiet noisyopt\n",
    "!pip install --quiet numba --upgrade --user\n",
    "#!pip install --quiet pennylane-sf --upgrade\n",
    "from noisyopt import minimizeSPSA\n",
    "import numpy as np\n",
    "import itertools\n",
    "import numpy as np\n",
    "\n",
    "# Importing standard Qiskit libraries\n",
    "from qiskit import QuantumCircuit, transpile, Aer, IBMQ\n",
    "from qiskit.tools.jupyter import *\n",
    "from qiskit.visualization import *\n",
    "from ibm_quantum_widgets import *\n",
    "from qiskit.providers.aer import QasmSimulator\n",
    "\n",
    "# Loading your IBM Quantum account(s)\n",
    "provider = IBMQ.load_account()"
   ]
  },
  {
   "cell_type": "markdown",
   "metadata": {},
   "source": [
    "(0) Load the dataset and process it likewise the classical method\n",
    "======================"
   ]
  },
  {
   "cell_type": "code",
   "execution_count": 44,
   "metadata": {},
   "outputs": [],
   "source": [
    "import classical"
   ]
  },
  {
   "cell_type": "code",
   "execution_count": 45,
   "metadata": {},
   "outputs": [],
   "source": [
    "# If you haven't extracted the zip file yet:\n",
    "# classical.extract_zip()"
   ]
  },
  {
   "cell_type": "code",
   "execution_count": 46,
   "metadata": {},
   "outputs": [
    {
     "name": "stdout",
     "output_type": "stream",
     "text": [
      "Loading stocks\n"
     ]
    },
    {
     "name": "stderr",
     "output_type": "stream",
     "text": [
      "100%|██████████| 50/50 [00:00<00:00, 148.93it/s]\n"
     ]
    },
    {
     "name": "stdout",
     "output_type": "stream",
     "text": [
      "Preprocessing Data\n",
      "Done\n"
     ]
    }
   ],
   "source": [
    "x_train, y_train, x_val, y_val, x_test, y_test = \\\n",
    "    classical.get_data()"
   ]
  },
  {
   "cell_type": "code",
   "execution_count": 47,
   "metadata": {},
   "outputs": [
    {
     "name": "stdout",
     "output_type": "stream",
     "text": [
      "46\n",
      "10\n",
      "[-0.06841125  0.24390443 -0.07097474  0.01777462  0.01777481  0.09230062]\n"
     ]
    }
   ],
   "source": [
    "print(len(x_train))\n",
    "print(len(x_train[0]))\n",
    "print(x_train[0][0])\n"
   ]
  },
  {
   "cell_type": "markdown",
   "metadata": {},
   "source": [
    "(1) First consider the case with only 1 feature (closed price). Normalize our feature x_1. \n",
    "======================\n",
    "Our current data encoding method (from a floating point number to an angle), requires the floating number between (0,1]. So we need to first process the data using min-max normalization (like what we did to the volumn)\n"
   ]
  },
  {
   "cell_type": "markdown",
   "metadata": {},
   "source": [
    "(2) Encode the normalized feature into an angle\n",
    "======================\n",
    "\n",
    "$$x_i` = \\sqrt{(1-x_i^2)}$$\n",
    "$$ angle \\space \\phi = \\arctan{(x`_i/x_i)}$$"
   ]
  },
  {
   "cell_type": "code",
   "execution_count": 48,
   "metadata": {},
   "outputs": [],
   "source": [
    "def get_open_only(x_data):\n",
    "    #print(x_data[0])\n",
    "    return x_data#[x_datapoint[:, 0] for x_datapoint in x_data]\n",
    "x_train = get_open_only(x_train)\n",
    "x_val = get_open_only(x_val)\n",
    "x_test = get_open_only(x_test)"
   ]
  },
  {
   "cell_type": "code",
   "execution_count": 49,
   "metadata": {},
   "outputs": [],
   "source": [
    "def sigmoid(x):\n",
    "    return np.exp(x) / (1 + np.exp(x))"
   ]
  },
  {
   "cell_type": "code",
   "execution_count": 50,
   "metadata": {},
   "outputs": [
    {
     "name": "stdout",
     "output_type": "stream",
     "text": [
      "(46, 10, 6)\n"
     ]
    }
   ],
   "source": [
    "def float_to_angle(x):\n",
    "    x = sigmoid(x) # send to 0-1\n",
    "    x_pi = np.sqrt(1-np.square(x))\n",
    "    return np.arctan(x_pi/(x + 1e-5))\n",
    "\n",
    "train_angles = np.array([float_to_angle(x) for x in x_train])\n",
    "test_angles = np.array([float_to_angle(x) for x in x_test])    \n",
    "\n",
    "val_angles = np.array([float_to_angle(x) for x in x_val])\n",
    "\n",
    "train_angles_y = np.array([float_to_angle(y) for y in y_train])\n",
    "test_angles_y = np.array([float_to_angle(y) for y in y_test])\n",
    "val_angles_y = np.array([float_to_angle(y) for y in y_val])\n",
    "assert np.all(0 <= train_angles)\n",
    "assert np.all(train_angles <= np.pi)\n",
    "\n",
    "print(train_angles.shape)"
   ]
  },
  {
   "cell_type": "code",
   "execution_count": 51,
   "metadata": {},
   "outputs": [],
   "source": [
    "import numpy as np\n",
    "import matplotlib.pyplot as plt\n",
    "\n",
    "import torch\n",
    "from torch.autograd import Function\n",
    "from torchvision import datasets, transforms\n",
    "import torch.optim as optim\n",
    "import torch.nn as nn\n",
    "import torch.nn.functional as F\n",
    "\n",
    "import qiskit\n",
    "from qiskit import transpile, assemble\n",
    "from qiskit.visualization import *"
   ]
  },
  {
   "cell_type": "code",
   "execution_count": 52,
   "metadata": {},
   "outputs": [
    {
     "name": "stdout",
     "output_type": "stream",
     "text": [
      "1.0668197\n"
     ]
    },
    {
     "data": {
      "image/png": "[encoded data removed]",
      "text/plain": [
       "<Figure size 628.397x264.88 with 1 Axes>"
      ]
     },
     "execution_count": 52,
     "metadata": {},
     "output_type": "execute_result"
    }
   ],
   "source": [
    "# visualize the sturcture\n",
    "from qiskit import QuantumCircuit\n",
    "n_qubits = 3\n",
    "\n",
    "qc = QuantumCircuit(n_qubits, 3)\n",
    "def first_order_neuron(input_x, theta, n_qubits):\n",
    "    #qc = QuantumCircuit(n_qubits, 3)\n",
    "    \n",
    "    # encode the data x in the 0th wire\n",
    "    qc.u(input_x, 0,0,0)\n",
    "    \n",
    "    qc.u(theta,0,0,1) # equivalent to the R(theta), but how to connect to the first wire, using a cx gate ?\n",
    "    qc.cx(0,1)\n",
    "    qc.barrier()\n",
    "    \n",
    "    qc.y(2) # how to code iY gate ?\n",
    "    qc.cx(1,2)\n",
    "    qc.barrier()\n",
    "    \n",
    "    qc.u(-theta,0,0,1)\n",
    "    qc.cx(0,1)\n",
    "    \n",
    "    memory = [0,1,2]\n",
    "    qc.measure([1], [memory[1]]) # measure to qubit n to classical bit m\n",
    "    \n",
    "    \n",
    "print(train_angles[0][0][0])\n",
    "# sometimes train_angles[0][0] is a scalar, and sometimes it's a vector\n",
    "# if directly extract, it's a scalar.\n",
    "first_order_neuron(train_angles[0][0][0],np.pi/2, 3)\n",
    "qc.draw() # must be draw globally"
   ]
  },
  {
   "cell_type": "code",
   "execution_count": 55,
   "metadata": {},
   "outputs": [
    {
     "name": "stdout",
     "output_type": "stream",
     "text": [
      "hih\n"
     ]
    }
   ],
   "source": [
    "# if the above sturcture is correct\n",
    "# implement it in the following class template\n",
    "class first_order_neuron:\n",
    "    \"\"\" \n",
    "    This class provides a simple interface for interaction \n",
    "    with the quantum circuit \n",
    "    \"\"\"\n",
    "    \n",
    "    def __init__(self, input_x, n_qubits, backend, shots):\n",
    "        # --- Circuit definition ---\n",
    "        self._circuit = qiskit.QuantumCircuit(n_qubits, 3) #QuantumCircuit(n_qubits)\n",
    "        \n",
    "        all_qubits = [i for i in range(n_qubits)]\n",
    "        self.theta = qiskit.circuit.Parameter('theta')\n",
    "        \n",
    "        # ---------------------------\n",
    "        #print(input_x)\n",
    "        \n",
    "        input_x = float(input_x)\n",
    "        print(type(input_x))\n",
    "        self._circuit.u(input_x, 0,0,0)\n",
    "        self._circuit.barrier()\n",
    "    \n",
    "        self._circuit.u(self.theta,0,0,1) # equivalent to the R(theta), but how to connect to the first wire, using a cx gate ?\n",
    "        self._circuit.cx(0,1)\n",
    "        self._circuit.barrier()\n",
    "\n",
    "        self._circuit.y(2) # how to code iY gate ?\n",
    "        self._circuit.cx(1,2)\n",
    "        self._circuit.barrier()\n",
    "\n",
    "        self._circuit.u(-self.theta,0,0,1)\n",
    "        self._circuit.cx(0,1)\n",
    "\n",
    "        memory = [0,1,2]\n",
    "        self._circuit.measure([1], [memory[1]]) # measure to qubit n to classical bit m\n",
    "        \n",
    "        # ---------------------------\n",
    "\n",
    "        self.backend = backend\n",
    "        self.shots = shots\n",
    "    \n",
    "    def run(self, thetas):\n",
    "        t_qc = transpile(self._circuit,\n",
    "                         self.backend)\n",
    "        qobj = assemble(t_qc,\n",
    "                        shots=self.shots,\n",
    "                        parameter_binds = [{self.theta: theta} for theta in thetas])\n",
    "        job = self.backend.run(qobj)\n",
    "        result = job.result().get_counts()\n",
    "        \n",
    "        counts = np.array(list(result.values()))\n",
    "        states = np.array(list(result.keys())).astype(float)\n",
    "        \n",
    "        # Compute probabilities for each state\n",
    "        probabilities = counts / self.shots\n",
    "        # Get state expectation\n",
    "        \n",
    "        print(\"the state: \",states)\n",
    "        \n",
    "        expectation = np.sum(states * probabilities)\n",
    "        \n",
    "        print(\"the expectation: \",expectation)\n",
    "        \n",
    "        return np.array([expectation])\n",
    "print(\"hih\")"
   ]
  },
  {
   "cell_type": "code",
   "execution_count": 58,
   "metadata": {},
   "outputs": [
    {
     "ename": "ModuleNotFoundError",
     "evalue": "No module named 'pennylane'",
     "output_type": "error",
     "traceback": [
      "\u001b[0;31m---------------------------------------------------------------------------\u001b[0m",
      "\u001b[0;31mModuleNotFoundError\u001b[0m                       Traceback (most recent call last)",
      "Input \u001b[0;32mIn [13]\u001b[0m, in \u001b[0;36m<cell line: 1>\u001b[0;34m()\u001b[0m\n\u001b[0;32m----> 1\u001b[0m \u001b[38;5;28;01mimport\u001b[39;00m \u001b[38;5;21;01mpennylane\u001b[39;00m \u001b[38;5;28;01mas\u001b[39;00m \u001b[38;5;21;01mqml\u001b[39;00m\n\u001b[1;32m      2\u001b[0m \u001b[38;5;28;01mimport\u001b[39;00m \u001b[38;5;21;01mpennylane\u001b[39;00m\u001b[38;5;21;01m.\u001b[39;00m\u001b[38;5;21;01mnumpy\u001b[39;00m \u001b[38;5;28;01mas\u001b[39;00m \u001b[38;5;21;01mpnp\u001b[39;00m\n\u001b[1;32m      3\u001b[0m \u001b[38;5;28;01mfrom\u001b[39;00m \u001b[38;5;21;01mpennylane\u001b[39;00m\u001b[38;5;21;01m.\u001b[39;00m\u001b[38;5;21;01moptimize\u001b[39;00m \u001b[38;5;28;01mimport\u001b[39;00m NesterovMomentumOptimizer\n",
      "\u001b[0;31mModuleNotFoundError\u001b[0m: No module named 'pennylane'"
     ]
    },
    {
     "name": "stdout",
     "output_type": "stream",
     "text": [
      "1.0668197\n",
      "<class 'float'>\n",
      "the state:  [0.]\n",
      "the expectation:  0.0\n",
      "Expected value for rotation pi 0.0\n",
      "succeed\n"
     ]
    },
    {
     "data": {
      "image/png": "[encoded data removed]",
      "text/plain": [
       "<Figure size 869.197x264.88 with 1 Axes>"
      ]
     },
     "execution_count": 58,
     "metadata": {},
     "output_type": "execute_result"
    }
   ],
   "source": [
    "%tb\n",
    "n_qubits, shots = 3, 100\n",
    "backend = qiskit.Aer.get_backend('aer_simulator')\n",
    "print(train_angles[0][0][0])\n",
    "fon = first_order_neuron(train_angles[0][0][0], n_qubits, backend, shots)\n",
    "\n",
    "print('Expected value for rotation pi {}'.format(fon.run([np.pi])[0]))\n",
    "print(\"succeed\")\n",
    "fon._circuit.draw()\n"
   ]
  },
  {
   "cell_type": "code",
   "execution_count": 59,
   "metadata": {},
   "outputs": [],
   "source": [
    "class HybridFunction(Function):\n",
    "    \"\"\" Hybrid quantum - classical function definition \"\"\"\n",
    "    \n",
    "    @staticmethod\n",
    "    def forward(ctx, input, quantum_circuit, shift):\n",
    "        \"\"\" Forward pass computation \"\"\"\n",
    "        ctx.shift = shift\n",
    "        ctx.quantum_circuit = quantum_circuit\n",
    "\n",
    "        expectation_z = ctx.quantum_circuit.run(input[0].tolist())\n",
    "        result = torch.tensor([expectation_z])\n",
    "        ctx.save_for_backward(input, result)\n",
    "\n",
    "        return result\n",
    "        \n",
    "    @staticmethod\n",
    "    def backward(ctx, grad_output):\n",
    "        \"\"\" Backward pass computation \"\"\"\n",
    "        input, expectation_z = ctx.saved_tensors\n",
    "        input_list = np.array(input.tolist())\n",
    "        \n",
    "        shift_right = input_list + np.ones(input_list.shape) * ctx.shift\n",
    "        shift_left = input_list - np.ones(input_list.shape) * ctx.shift\n",
    "        \n",
    "        gradients = []\n",
    "        for i in range(len(input_list)):\n",
    "            expectation_right = ctx.quantum_circuit.run(shift_right[i])\n",
    "            expectation_left  = ctx.quantum_circuit.run(shift_left[i])\n",
    "            \n",
    "            gradient = torch.tensor([expectation_right]) - torch.tensor([expectation_left])\n",
    "            gradients.append(gradient)\n",
    "        gradients = np.array([gradients]).T\n",
    "        return torch.tensor([gradients]).float() * grad_output.float(), None, None\n",
    "\n",
    "class Hybrid(nn.Module):\n",
    "    \"\"\" Hybrid quantum - classical layer definition \"\"\"\n",
    "    \n",
    "    def __init__(self, backend, shots, shift):\n",
    "        super(Hybrid, self).__init__()\n",
    "        self.quantum_circuit = first_order_neuron(train_angles[0][0][0], n_qubits, backend, shots)\n",
    "        self.shift = shift\n",
    "        \n",
    "    def forward(self, input):\n",
    "        return HybridFunction.apply(input, self.quantum_circuit, self.shift)"
   ]
  },
  {
   "cell_type": "code",
   "execution_count": 60,
   "metadata": {},
   "outputs": [],
   "source": [
    "class Net(nn.Module):\n",
    "    def __init__(self):\n",
    "        super(Net, self).__init__()\n",
    "        self.conv1 = nn.Conv2d(1, 6, kernel_size=5)\n",
    "        self.conv2 = nn.Conv2d(6, 16, kernel_size=5)\n",
    "        self.dropout = nn.Dropout2d()\n",
    "        self.fc1 = nn.Linear(256, 64)\n",
    "        self.fc2 = nn.Linear(64, 1)\n",
    "        self.hybrid = Hybrid(qiskit.Aer.get_backend('aer_simulator'), 100, np.pi / 2)\n",
    "\n",
    "    def forward(self, x):\n",
    "        x = F.relu(self.conv1(x))\n",
    "        x = F.max_pool2d(x, 2)\n",
    "        x = F.relu(self.conv2(x))\n",
    "        x = F.max_pool2d(x, 2)\n",
    "        x = self.dropout(x)\n",
    "        x = x.view(1, -1)\n",
    "        x = F.relu(self.fc1(x))\n",
    "        x = self.fc2(x)\n",
    "        x = self.hybrid(x)\n",
    "        return torch.cat((x, 1 - x), -1)"
   ]
  },
  {
   "cell_type": "code",
   "execution_count": 61,
   "metadata": {},
   "outputs": [
    {
     "name": "stdout",
     "output_type": "stream",
     "text": [
      "<class 'float'>\n",
      "Traceback \u001b[1;36m(most recent call last)\u001b[0m:\n",
      "\u001b[1;36m  Input \u001b[1;32mIn [61]\u001b[1;36m in \u001b[1;35m<cell line: 9>\u001b[1;36m\u001b[0m\n",
      "\u001b[1;33m    for batch_idx, (data, target) in enumerate(train_loader):\u001b[0m\n",
      "\u001b[1;31mNameError\u001b[0m\u001b[1;31m:\u001b[0m name 'train_loader' is not defined\n",
      "\n",
      "Use %tb to get the full traceback.\n"
     ]
    },
    {
     "data": {
      "text/html": [
       "\n",
       "<style>\n",
       ".button {\n",
       "  border: none;\n",
       "  color: white;\n",
       "  padding: 4px 8px;\n",
       "  text-align: center;\n",
       "  text-decoration: none;\n",
       "  display: inline-block;\n",
       "  font-size: 12px;\n",
       "  margin: 4px 2px;\n",
       "  transition-duration: 0.2s;\n",
       "  cursor: pointer;\n",
       "}\n",
       ".iqx-button {\n",
       "  background-color: #0f62fe; \n",
       "  color: white; \n",
       "}\n",
       ".iqx-button:hover {\n",
       "  background-color: #0043ce;\n",
       "  color: white;\n",
       "}\n",
       "</style>\n",
       "<a href=\"https://stackoverflow.com/search?q=NameError: name 'train_loader' is not defined\" target='_blank'><button class='button iqx-button'>Search for solution online</button></a>\n"
      ],
      "text/plain": [
       "<IPython.core.display.HTML object>"
      ]
     },
     "metadata": {},
     "output_type": "display_data"
    }
   ],
   "source": [
    "model = Net()\n",
    "optimizer = optim.Adam(model.parameters(), lr=0.001)\n",
    "loss_func = nn.NLLLoss()\n",
    "\n",
    "epochs = 20\n",
    "loss_list = []\n",
    "\n",
    "model.train()\n",
    "for epoch in range(epochs):\n",
    "    total_loss = []\n",
    "    for batch_idx, (data, target) in enumerate(train_loader):\n",
    "        optimizer.zero_grad()\n",
    "        # Forward pass\n",
    "        output = model(data)\n",
    "        # Calculating loss\n",
    "        loss = loss_func(output, target)\n",
    "        # Backward pass\n",
    "        loss.backward()\n",
    "        # Optimize the weights\n",
    "        optimizer.step()\n",
    "        \n",
    "        total_loss.append(loss.item())\n",
    "    loss_list.append(sum(total_loss)/len(total_loss))\n",
    "    print('Training [{:.0f}%]\\tLoss: {:.4f}'.format(\n",
    "        100. * (epoch + 1) / epochs, loss_list[-1]))"
   ]
  },
  {
   "attachments": {
    "eedd24d4-8c5c-4685-8885-46eefab0bfa1.png": {
     "image/png": "[encoded data removed]"
    }
   },
   "cell_type": "markdown",
   "metadata": {},
   "source": [
    "(3) Input the angle into Displacement gate\n",
    "===========================\n",
    "Input the angle into Displacement gate, to eventually integrate our features to the circuit. \\\n",
    "Reference of the Displacement gate: https://docs.pennylane.ai/en/stable/code/api/pennylane.Displacement.html \\\n",
    "Our current circuit is the one in \"Rapid training of QRNN\". Displacement gate is the D gate in the following figure. \\\n",
    "The I gate in the figure has been modeled by Luis into combination of basis gates (which can be found in the APIs in Pennylane). So we can first implement the circuit. Because Pennylane and Xanadu are proposed by the same company, we think that it will be smooth to run the code on Xanadu, after running on LocalSimulator.\n",
    "\n",
    "![image.png](attachment:eedd24d4-8c5c-4685-8885-46eefab0bfa1.png)"
   ]
  },
  {
   "cell_type": "code",
   "execution_count": 13,
   "metadata": {},
   "outputs": [
    {
     "name": "stdout",
     "output_type": "stream",
     "text": [
      "Traceback \u001b[1;36m(most recent call last)\u001b[0m:\n",
      "\u001b[1;36m  Input \u001b[1;32mIn [13]\u001b[1;36m in \u001b[1;35m<cell line: 1>\u001b[1;36m\u001b[0m\n",
      "\u001b[1;33m    import pennylane as qml\u001b[0m\n",
      "\u001b[1;31mModuleNotFoundError\u001b[0m\u001b[1;31m:\u001b[0m No module named 'pennylane'\n",
      "\n",
      "Use %tb to get the full traceback.\n"
     ]
    },
    {
     "data": {
      "text/html": [
       "\n",
       "<style>\n",
       ".button {\n",
       "  border: none;\n",
       "  color: white;\n",
       "  padding: 4px 8px;\n",
       "  text-align: center;\n",
       "  text-decoration: none;\n",
       "  display: inline-block;\n",
       "  font-size: 12px;\n",
       "  margin: 4px 2px;\n",
       "  transition-duration: 0.2s;\n",
       "  cursor: pointer;\n",
       "}\n",
       ".iqx-button {\n",
       "  background-color: #0f62fe; \n",
       "  color: white; \n",
       "}\n",
       ".iqx-button:hover {\n",
       "  background-color: #0043ce;\n",
       "  color: white;\n",
       "}\n",
       "</style>\n",
       "<a href=\"https://stackoverflow.com/search?q=ModuleNotFoundError: No module named 'pennylane'\" target='_blank'><button class='button iqx-button'>Search for solution online</button></a>\n"
      ],
      "text/plain": [
       "<IPython.core.display.HTML object>"
      ]
     },
     "metadata": {},
     "output_type": "display_data"
    }
   ],
   "source": [
    "import pennylane as qml\n",
    "import pennylane.numpy as pnp\n",
    "from pennylane.optimize import NesterovMomentumOptimizer\n",
    "from pennylane.optimize import AdamOptimizer\n",
    "import strawberryfields as sf"
   ]
  },
  {
   "cell_type": "code",
   "execution_count": null,
   "metadata": {},
   "outputs": [],
   "source": [
    "n_wires = 2\n",
    "dev_default = qml.device(\"default.qubit\", wires=n_wires)\n",
    "#dev = qml.device('strawberryfields.fock', wires=2, cutoff_dim=10)\n",
    "dev = qml.device(\"default.gaussian\", wires=n_wires)"
   ]
  },
  {
   "cell_type": "markdown",
   "metadata": {},
   "source": [
    "Variational classifiers usually define a \"layer\" or \"block\", which is an\n",
    "elementary circuit architecture that gets repeated to build the\n",
    "variational circuit.\n",
    "\n",
    "Our circuit layer consists of an arbitrary rotation on every qubit, as\n",
    "well as CNOTs that entangle each qubit with its neighbour.\n"
   ]
  },
  {
   "cell_type": "code",
   "execution_count": null,
   "metadata": {},
   "outputs": [],
   "source": [
    "def I_gate(theta):\n",
    "    qml.Beamsplitter(theta, 3.14/2, wires=[0,1])\n",
    "    qml.Squeezing(1, theta, wires=0)\n",
    "    qml.Squeezing(1, theta, wires=1)\n",
    "    qml.Rotation(theta, wires=0)\n",
    "    qml.Rotation(theta, wires=1)\n",
    "    qml.Beamsplitter(theta, 3.14/2, wires=[0,1])\n",
    "    \n",
    "def layer(x, theta):\n",
    "    # encoding\n",
    "    qml.Displacement(1, x, wires=1)\n",
    "    \n",
    "    # interaction, every component has a different parameter\n",
    "    I_gate(theta[0])\n",
    "    qml.Squeezing(1, theta[1], wires=0)\n",
    "    qml.Squeezing(1, theta[2], wires=1)\n",
    "    \n",
    "    I_gate(theta[3])\n",
    "    qml.Displacement(1, theta[4], wires=0)\n",
    "    qml.Displacement(1, theta[5], wires=1)\n"
   ]
  },
  {
   "cell_type": "code",
   "execution_count": null,
   "metadata": {},
   "outputs": [],
   "source": [
    "@qml.qnode(dev)\n",
    "def circuit(weights, x):\n",
    "    for i in range(len(weights)):\n",
    "        layer(x[i], weights[i])\n",
    "    return qml.expval(qml.X(wires=1)) # We were measuring the wrong wire"
   ]
  },
  {
   "cell_type": "code",
   "execution_count": null,
   "metadata": {},
   "outputs": [],
   "source": [
    "depth = 1\n",
    "combs = itertools.combinations(range(n_wires), 2)\n",
    "def ansatz_qaoa(params):\n",
    "    \"\"\"VQC ansatz using single-qubits unitaries and entangling gates\n",
    "\n",
    "    Args:\n",
    "        params : shape (`depth` + 1, `n_wires`, 3) tensor containing trainable parameters\n",
    "    \"\"\"\n",
    "    for m in range(depth + 1):\n",
    "        for i in range(n_wires):\n",
    "            qml.Rot(params[m, i, 0], params[m, i, 1], params[m, i, 2], wires=i)\n",
    "        if m != depth:\n",
    "            for s in combs:\n",
    "                qml.CZ(wires=s)\n",
    "\n",
    "@qml.qnode(dev_default)\n",
    "def circuit_qaoa(weights, x):\n",
    "    ansatz_qaoa(weights)\n",
    "    return qml.expval(qml.PauliZ(wires=1))"
   ]
  },
  {
   "cell_type": "code",
   "execution_count": null,
   "metadata": {},
   "outputs": [],
   "source": [
    "pnp.random.seed(0)\n",
    "num_qubits = 2\n",
    "num_layers = 1\n",
    "weights_init = 0.01 * pnp.random.randn(1, 6, 1, requires_grad=True)\n",
    "weights_init_qaoa = 2 * np.pi * pnp.random.randn(depth + 1, n_wires, 3, requires_grad=True)"
   ]
  },
  {
   "cell_type": "code",
   "execution_count": null,
   "metadata": {},
   "outputs": [],
   "source": [
    "print(weights_init_qaoa.shape)"
   ]
  },
  {
   "cell_type": "code",
   "execution_count": null,
   "metadata": {},
   "outputs": [],
   "source": [
    "def square_loss(labels, predictions):\n",
    "    loss = 0\n",
    "    for l, p in zip(labels, predictions):\n",
    "        loss = loss + (labels - p) ** 2\n",
    "    loss = pnp.mean(loss)\n",
    "    return loss"
   ]
  },
  {
   "cell_type": "code",
   "execution_count": null,
   "metadata": {},
   "outputs": [],
   "source": [
    "# https://pennylane.ai/qml/demos/spsa.html\n",
    "costs = []\n",
    "# Do you want to use the qaoa algorithm or the continuous variable device?\n",
    "use_qaoa = True\n",
    "def cost_spsa(weights):\n",
    "    batch_inds = [pnp.random.randint(train_angles.shape[0], size=1)]\n",
    "    # should be in [0, 1]?\n",
    "    X = train_angles[batch_inds, 0:1]\n",
    "    if use_qaoa:\n",
    "        weights = weights.reshape(weights_init_qaoa.shape)\n",
    "        predictions = [circuit_qaoa(weights, x) for x in X]\n",
    "    else:\n",
    "        weights = weights.reshape(weights_init.shape)\n",
    "        predictions = [circuit(weights, x) for x in X]\n",
    "    return square_loss(train_angles_y[batch_inds, 0:1], \n",
    "                       predictions)\n",
    "\n",
    "iteration_num = 0\n",
    "init_exe_count = int(dev.num_executions)\n",
    "def callback_fn(w):\n",
    "    global iteration_num\n",
    "    num_executions = int(dev.num_executions) - init_exe_count\n",
    "\n",
    "    iteration_num += 1\n",
    "    if iteration_num % 10 == 0:\n",
    "        cost_val = cost_spsa(w)\n",
    "        costs.append(cost_val)\n",
    "\n",
    "        print(\n",
    "            f\"Iteration = {iteration_num}, \"\n",
    "            f\"Number of device executions = {num_executions}, \"\n",
    "            f\"Cost = {cost_val}\"\n",
    "        )\n",
    "\n",
    "init_w = weights_init_qaoa if use_qaoa else weights_init\n",
    "res = minimizeSPSA(\n",
    "    cost_spsa,\n",
    "    x0=init_w.flatten().copy(),\n",
    "    niter=200,\n",
    "    paired=False,\n",
    "    #c=0.01,\n",
    "    #a=0.002,\n",
    "    c = .02,\n",
    "    a = .1,\n",
    "    callback=callback_fn,\n",
    ")"
   ]
  },
  {
   "cell_type": "markdown",
   "metadata": {},
   "source": [
    "end\n",
    "=============="
   ]
  },
  {
   "cell_type": "code",
   "execution_count": null,
   "metadata": {},
   "outputs": [],
   "source": []
  }
 ],
 "metadata": {
  "kernelspec": {
   "display_name": "Python 3.10.6 64-bit",
   "language": "python",
   "name": "python3"
  },
  "language_info": {
   "codemirror_mode": {
    "name": "ipython",
    "version": 3
   },
   "file_extension": ".py",
   "mimetype": "text/x-python",
   "name": "python",
   "nbconvert_exporter": "python",
   "pygments_lexer": "ipython3",
   "version": "3.10.6"
  },
  "vscode": {
   "interpreter": {
    "hash": "e7370f93d1d0cde622a1f8e1c04877d8463912d04d973331ad4851f04de6915a"
   }
  },
  "widgets": {
   "application/vnd.jupyter.widget-state+json": {
    "state": {
     "15dff2e13f58438ba53c8d10f10d9db1": {
      "model_module": "@jupyter-widgets/controls",
      "model_module_version": "1.5.0",
      "model_name": "HBoxModel",
      "state": {
       "children": [
        "IPY_MODEL_e746029163ee42559c2e16df7c8f3597",
        "IPY_MODEL_7be079c15d834010b8dce26f37404104",
        "IPY_MODEL_3ef99fc58ed545bcabcb2c996e78136a",
        "IPY_MODEL_e32ee9b94d684455aa4ad91dd8a6d8bc",
        "IPY_MODEL_9f9468c5b56440f58620cdd80d7c345c"
       ],
       "layout": "IPY_MODEL_2aa82a073431499483ec26d543dddf16"
      }
     },
     "1fe702a0dd944296ae1bc8a8c4b7e952": {
      "model_module": "@jupyter-widgets/base",
      "model_module_version": "1.2.0",
      "model_name": "LayoutModel",
      "state": {
       "grid_area": "right",
       "padding": "0px 0px 0px 0px",
       "width": "70px"
      }
     },
     "21161faebc574c60a5f0dde59e7c9d28": {
      "model_module": "@jupyter-widgets/base",
      "model_module_version": "1.2.0",
      "model_name": "LayoutModel",
      "state": {
       "grid_template_areas": "\n                                       \". . . . right \"\n                                        ",
       "grid_template_columns": "20% 20% 20% 20% 20%",
       "width": "100%"
      }
     },
     "2aa82a073431499483ec26d543dddf16": {
      "model_module": "@jupyter-widgets/base",
      "model_module_version": "1.2.0",
      "model_name": "LayoutModel",
      "state": {
       "margin": "0px 0px 0px 37px",
       "width": "600px"
      }
     },
     "38b67da39c3c48119a0a0480935199e4": {
      "model_module": "@jupyter-widgets/controls",
      "model_module_version": "1.5.0",
      "model_name": "DescriptionStyleModel",
      "state": {
       "description_width": ""
      }
     },
     "3ef99fc58ed545bcabcb2c996e78136a": {
      "model_module": "@jupyter-widgets/controls",
      "model_module_version": "1.5.0",
      "model_name": "HTMLModel",
      "state": {
       "layout": "IPY_MODEL_ccbbce782dd34a81b7a911757705cd90",
       "style": "IPY_MODEL_f8f2d666834c4f0d8e8498b8e20ce467",
       "value": "<h5>Status</h5>"
      }
     },
     "492287a65ab641ccbb179b9b7582ae7d": {
      "model_module": "@jupyter-widgets/base",
      "model_module_version": "1.2.0",
      "model_name": "LayoutModel",
      "state": {
       "width": "190px"
      }
     },
     "4debdb5829a643a48a9d11206ef8f791": {
      "model_module": "@jupyter-widgets/controls",
      "model_module_version": "1.5.0",
      "model_name": "ButtonStyleModel",
      "state": {}
     },
     "5397d232bee44b648d668b9b67dc469f": {
      "model_module": "@jupyter-widgets/controls",
      "model_module_version": "1.5.0",
      "model_name": "DescriptionStyleModel",
      "state": {
       "description_width": ""
      }
     },
     "59ffc97f45f749bf94e847992d26c521": {
      "model_module": "@jupyter-widgets/controls",
      "model_module_version": "1.5.0",
      "model_name": "DescriptionStyleModel",
      "state": {
       "description_width": ""
      }
     },
     "5a20b81a3f084b19a7d9aa268ca23b7c": {
      "model_module": "@jupyter-widgets/controls",
      "model_module_version": "1.5.0",
      "model_name": "ButtonModel",
      "state": {
       "button_style": "primary",
       "description": "Clear",
       "layout": "IPY_MODEL_1fe702a0dd944296ae1bc8a8c4b7e952",
       "style": "IPY_MODEL_4debdb5829a643a48a9d11206ef8f791"
      }
     },
     "6cacc50d9699410e8ae6304087dcb79d": {
      "model_module": "@jupyter-widgets/base",
      "model_module_version": "1.2.0",
      "model_name": "LayoutModel",
      "state": {}
     },
     "7be079c15d834010b8dce26f37404104": {
      "model_module": "@jupyter-widgets/controls",
      "model_module_version": "1.5.0",
      "model_name": "HTMLModel",
      "state": {
       "layout": "IPY_MODEL_943aebac84c04cf7b695cad5213ca358",
       "style": "IPY_MODEL_59ffc97f45f749bf94e847992d26c521",
       "value": "<h5>Backend</h5>"
      }
     },
     "7fc6dc897d4247f0b6ad0a65ab9bde71": {
      "model_module": "@jupyter-widgets/base",
      "model_module_version": "1.2.0",
      "model_name": "LayoutModel",
      "state": {
       "width": "70px"
      }
     },
     "943aebac84c04cf7b695cad5213ca358": {
      "model_module": "@jupyter-widgets/base",
      "model_module_version": "1.2.0",
      "model_name": "LayoutModel",
      "state": {
       "width": "145px"
      }
     },
     "9f9468c5b56440f58620cdd80d7c345c": {
      "model_module": "@jupyter-widgets/controls",
      "model_module_version": "1.5.0",
      "model_name": "HTMLModel",
      "state": {
       "layout": "IPY_MODEL_6cacc50d9699410e8ae6304087dcb79d",
       "style": "IPY_MODEL_38b67da39c3c48119a0a0480935199e4",
       "value": "<h5>Message</h5>"
      }
     },
     "a71165654730481cbf0f4e2162b4f785": {
      "model_module": "@jupyter-widgets/base",
      "model_module_version": "1.2.0",
      "model_name": "LayoutModel",
      "state": {
       "margin": "0px 0px 10px 0px"
      }
     },
     "a99f463c4aaf4a89b2d0266b3a68d895": {
      "model_module": "@jupyter-widgets/controls",
      "model_module_version": "1.5.0",
      "model_name": "HTMLModel",
      "state": {
       "layout": "IPY_MODEL_a71165654730481cbf0f4e2162b4f785",
       "style": "IPY_MODEL_5397d232bee44b648d668b9b67dc469f",
       "value": "<p style='font-family: IBM Plex Sans, Arial, Helvetica, sans-serif; font-size: 20px; font-weight: medium;'>Circuit Properties</p>"
      }
     },
     "ccbbce782dd34a81b7a911757705cd90": {
      "model_module": "@jupyter-widgets/base",
      "model_module_version": "1.2.0",
      "model_name": "LayoutModel",
      "state": {
       "width": "95px"
      }
     },
     "df0e2c866cac43c5a0e3457a680ba64f": {
      "model_module": "@jupyter-widgets/controls",
      "model_module_version": "1.5.0",
      "model_name": "DescriptionStyleModel",
      "state": {
       "description_width": ""
      }
     },
     "e32ee9b94d684455aa4ad91dd8a6d8bc": {
      "model_module": "@jupyter-widgets/controls",
      "model_module_version": "1.5.0",
      "model_name": "HTMLModel",
      "state": {
       "layout": "IPY_MODEL_7fc6dc897d4247f0b6ad0a65ab9bde71",
       "style": "IPY_MODEL_df0e2c866cac43c5a0e3457a680ba64f",
       "value": "<h5>Queue</h5>"
      }
     },
     "e746029163ee42559c2e16df7c8f3597": {
      "model_module": "@jupyter-widgets/controls",
      "model_module_version": "1.5.0",
      "model_name": "HTMLModel",
      "state": {
       "layout": "IPY_MODEL_492287a65ab641ccbb179b9b7582ae7d",
       "style": "IPY_MODEL_f7d8a25c13fa48bea46d009b5915256a",
       "value": "<h5>Job ID</h5>"
      }
     },
     "f6b5545e2f934c06b3e57600b9a9e217": {
      "model_module": "@jupyter-widgets/controls",
      "model_module_version": "1.5.0",
      "model_name": "GridBoxModel",
      "state": {
       "children": [
        "IPY_MODEL_5a20b81a3f084b19a7d9aa268ca23b7c"
       ],
       "layout": "IPY_MODEL_21161faebc574c60a5f0dde59e7c9d28"
      }
     },
     "f7d8a25c13fa48bea46d009b5915256a": {
      "model_module": "@jupyter-widgets/controls",
      "model_module_version": "1.5.0",
      "model_name": "DescriptionStyleModel",
      "state": {
       "description_width": ""
      }
     },
     "f8f2d666834c4f0d8e8498b8e20ce467": {
      "model_module": "@jupyter-widgets/controls",
      "model_module_version": "1.5.0",
      "model_name": "DescriptionStyleModel",
      "state": {
       "description_width": ""
      }
     }
    },
    "version_major": 2,
    "version_minor": 0
   }
  }
 },
 "nbformat": 4,
 "nbformat_minor": 4
}
