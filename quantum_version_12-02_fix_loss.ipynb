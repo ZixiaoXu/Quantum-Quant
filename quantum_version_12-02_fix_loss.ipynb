{
 "cells": [
  {
   "cell_type": "code",
   "execution_count": 1,
   "metadata": {},
   "outputs": [],
   "source": [
    "import sys\n",
    "import warnings\n",
    "import matplotlib.pyplot as plt\n",
    "import numpy as np\n",
    "import itertools\n",
    "import math\n",
    "\n",
    "# Importing standard Qiskit libraries\n",
    "from qiskit import QuantumCircuit, transpile, Aer, IBMQ, execute\n",
    "from qiskit.tools.jupyter import *\n",
    "from qiskit.visualization import *\n",
    "#from ibm_quantum_widgets import *\n",
    "from qiskit.providers.aer import QasmSimulator\n",
    "from qiskit.result import marginal_counts\n",
    "from qiskit.providers.ibmq.job import job_monitor\n",
    "from qiskit.tools.visualization import plot_histogram\n",
    "import qiskit.quantum_info as qi\n",
    "# Loading your IBM Quantum account(s)\n",
    "#provider = IBMQ.load_account()"
   ]
  },
  {
   "cell_type": "code",
   "execution_count": 2,
   "metadata": {},
   "outputs": [],
   "source": [
    "# %matplotlib inline\n",
    "# !pip install --quiet noisyopt\n",
    "# !pip install --quiet numba --upgrade --user\n",
    "# !pip install --quiet pennylane-sf --upgrade\n",
    "from noisyopt import minimizeSPSA\n",
    "import numpy as np\n",
    "import itertools"
   ]
  },
  {
   "cell_type": "markdown",
   "metadata": {},
   "source": [
    "(0) Load the dataset and process it likewise the classical method\n",
    "======================"
   ]
  },
  {
   "cell_type": "code",
   "execution_count": 3,
   "metadata": {},
   "outputs": [
    {
     "name": "stderr",
     "output_type": "stream",
     "text": [
      "2022-12-04 21:43:48.398299: I tensorflow/core/platform/cpu_feature_guard.cc:193] This TensorFlow binary is optimized with oneAPI Deep Neural Network Library (oneDNN) to use the following CPU instructions in performance-critical operations:  AVX2 AVX512F AVX512_VNNI FMA\n",
      "To enable them in other operations, rebuild TensorFlow with the appropriate compiler flags.\n",
      "2022-12-04 21:43:48.584240: I tensorflow/core/util/util.cc:169] oneDNN custom operations are on. You may see slightly different numerical results due to floating-point round-off errors from different computation orders. To turn them off, set the environment variable `TF_ENABLE_ONEDNN_OPTS=0`.\n",
      "2022-12-04 21:43:48.589351: W tensorflow/stream_executor/platform/default/dso_loader.cc:64] Could not load dynamic library 'libcudart.so.11.0'; dlerror: libcudart.so.11.0: cannot open shared object file: No such file or directory\n",
      "2022-12-04 21:43:48.589397: I tensorflow/stream_executor/cuda/cudart_stub.cc:29] Ignore above cudart dlerror if you do not have a GPU set up on your machine.\n",
      "2022-12-04 21:43:48.627627: E tensorflow/stream_executor/cuda/cuda_blas.cc:2981] Unable to register cuBLAS factory: Attempting to register factory for plugin cuBLAS when one has already been registered\n",
      "2022-12-04 21:43:49.439390: W tensorflow/stream_executor/platform/default/dso_loader.cc:64] Could not load dynamic library 'libnvinfer.so.7'; dlerror: libnvinfer.so.7: cannot open shared object file: No such file or directory\n",
      "2022-12-04 21:43:49.439454: W tensorflow/stream_executor/platform/default/dso_loader.cc:64] Could not load dynamic library 'libnvinfer_plugin.so.7'; dlerror: libnvinfer_plugin.so.7: cannot open shared object file: No such file or directory\n",
      "2022-12-04 21:43:49.439460: W tensorflow/compiler/tf2tensorrt/utils/py_utils.cc:38] TF-TRT Warning: Cannot dlopen some TensorRT libraries. If you would like to use Nvidia GPU with TensorRT, please make sure the missing libraries mentioned above are installed properly.\n"
     ]
    }
   ],
   "source": [
    "import classical"
   ]
  },
  {
   "cell_type": "code",
   "execution_count": 4,
   "metadata": {},
   "outputs": [
    {
     "name": "stderr",
     "output_type": "stream",
     "text": [
      "100%|██████████| 228/228 [00:01<00:00, 130.13it/s]\n"
     ]
    },
    {
     "name": "stdout",
     "output_type": "stream",
     "text": [
      "Preprocessing Data\n"
     ]
    }
   ],
   "source": [
    "sequence_length = 5\n",
    "x_train, y_train, x_val, y_val, x_test, y_test = \\\n",
    "    classical.get_data(sequence_length, n_stocks_train=100, n_stocks_val=64)"
   ]
  },
  {
   "cell_type": "markdown",
   "metadata": {},
   "source": [
    "(1) First consider the case with only 1 feature (closed price). Normalize our feature x_1. \n",
    "======================\n",
    "Our current data encoding method (from a floating point number to an angle), requires the floating number between (0,1]. So we need to first process the data using min-max normalization (like what we did to the volumn)\n"
   ]
  },
  {
   "cell_type": "markdown",
   "metadata": {},
   "source": [
    "(2) Encode the normalized feature into an angle\n",
    "======================\n",
    "\n",
    "$$x_i` = \\sqrt{(1-x_i^2)}$$\n",
    "$$ angle \\space \\phi = \\arctan{(x`_i/x_i)}$$"
   ]
  },
  {
   "cell_type": "code",
   "execution_count": 12,
   "metadata": {},
   "outputs": [
    {
     "name": "stdout",
     "output_type": "stream",
     "text": [
      "(5,)\n"
     ]
    }
   ],
   "source": [
    "print(x_train[0].shape)"
   ]
  },
  {
   "cell_type": "code",
   "execution_count": 13,
   "metadata": {},
   "outputs": [
    {
     "name": "stdout",
     "output_type": "stream",
     "text": [
      "2.0199111219868064\n",
      "N datapoints: 100\n",
      "train Loss: 3.530376554078775\n",
      "N datapoints: 64\n",
      "Val Loss: 2.932090762668322\n",
      "N datapoints: 64\n",
      "Test Loss: 3.1556735697696907\n"
     ]
    },
    {
     "data": {
      "text/plain": [
       "2.0199111219868064"
      ]
     },
     "execution_count": 13,
     "metadata": {},
     "output_type": "execute_result"
    }
   ],
   "source": [
    "def contant_baseline():\n",
    "  pred_value = 0\n",
    "  for y in y_train:\n",
    "    pred_value += y[-1]\n",
    "  pred_value /= len(y_train)\n",
    "  print(pred_value)\n",
    "\n",
    "  for name, test_set in (\"train\", y_train), (\"Val\", y_val), (\"Test\", y_test):\n",
    "    losses = []\n",
    "    print(f\"N datapoints: {len(test_set)}\")\n",
    "    for y in test_set:\n",
    "        losses.append((y[-1] - pred_value) ** 2)\n",
    "    print(f\"{name} Loss: {np.mean(losses)}\")\n",
    "classical.contant_baseline(y_train, y_val, y_test)"
   ]
  },
  {
   "cell_type": "code",
   "execution_count": 7,
   "metadata": {},
   "outputs": [
    {
     "name": "stderr",
     "output_type": "stream",
     "text": [
      "2022-12-04 21:43:53.855953: W tensorflow/stream_executor/platform/default/dso_loader.cc:64] Could not load dynamic library 'libcuda.so.1'; dlerror: libcuda.so.1: cannot open shared object file: No such file or directory\n",
      "2022-12-04 21:43:53.855973: W tensorflow/stream_executor/cuda/cuda_driver.cc:263] failed call to cuInit: UNKNOWN ERROR (303)\n",
      "2022-12-04 21:43:53.855989: I tensorflow/stream_executor/cuda/cuda_diagnostics.cc:156] kernel driver does not appear to be running on this host (alex-Laptop): /proc/driver/nvidia/version does not exist\n",
      "2022-12-04 21:43:53.856223: I tensorflow/core/platform/cpu_feature_guard.cc:193] This TensorFlow binary is optimized with oneAPI Deep Neural Network Library (oneDNN) to use the following CPU instructions in performance-critical operations:  AVX2 AVX512F AVX512_VNNI FMA\n",
      "To enable them in other operations, rebuild TensorFlow with the appropriate compiler flags.\n"
     ]
    },
    {
     "name": "stdout",
     "output_type": "stream",
     "text": [
      "Model: \"model\"\n",
      "_________________________________________________________________\n",
      "Layer (type)                 Output Shape              Param #   \n",
      "=================================================================\n",
      "input_1 (InputLayer)         [(None, 5, 1)]            0         \n",
      "_________________________________________________________________\n",
      "lstm (LSTM)                  (None, 64)                16896     \n",
      "_________________________________________________________________\n",
      "dense (Dense)                (None, 1)                 65        \n",
      "=================================================================\n",
      "Total params: 16,961\n",
      "Trainable params: 16,961\n",
      "Non-trainable params: 0\n",
      "_________________________________________________________________\n",
      "Epoch 1/30\n",
      "4/4 [==============================] - 3s 201ms/step - loss: 1.8160 - mse: 7.6679 - val_loss: 1.6679 - val_mse: 6.4379\n",
      "Epoch 2/30\n",
      "4/4 [==============================] - 0s 10ms/step - loss: 1.7177 - mse: 7.0976 - val_loss: 1.5642 - val_mse: 5.9322\n",
      "Epoch 3/30\n",
      "4/4 [==============================] - 0s 10ms/step - loss: 1.6201 - mse: 6.5666 - val_loss: 1.4448 - val_mse: 5.3882\n",
      "Epoch 4/30\n",
      "4/4 [==============================] - 0s 10ms/step - loss: 1.5937 - mse: 6.5044 - val_loss: 1.3108 - val_mse: 4.8030\n",
      "Epoch 5/30\n",
      "4/4 [==============================] - 0s 10ms/step - loss: 1.4523 - mse: 5.7966 - val_loss: 1.1698 - val_mse: 4.1841\n",
      "Epoch 6/30\n",
      "4/4 [==============================] - 0s 22ms/step - loss: 1.3873 - mse: 5.3776 - val_loss: 1.0456 - val_mse: 3.6217\n",
      "Epoch 7/30\n",
      "4/4 [==============================] - 0s 9ms/step - loss: 1.3363 - mse: 4.9699 - val_loss: 0.9746 - val_mse: 3.2489\n",
      "Epoch 8/30\n",
      "4/4 [==============================] - 0s 9ms/step - loss: 1.2246 - mse: 4.4929 - val_loss: 0.9470 - val_mse: 3.0473\n",
      "Epoch 9/30\n",
      "4/4 [==============================] - 0s 9ms/step - loss: 1.1703 - mse: 4.2130 - val_loss: 0.9185 - val_mse: 2.8995\n",
      "Epoch 10/30\n",
      "4/4 [==============================] - 0s 10ms/step - loss: 1.1632 - mse: 3.9662 - val_loss: 0.8718 - val_mse: 2.7410\n",
      "Epoch 11/30\n",
      "4/4 [==============================] - 0s 10ms/step - loss: 1.1081 - mse: 3.6234 - val_loss: 0.8268 - val_mse: 2.6114\n",
      "Epoch 12/30\n",
      "4/4 [==============================] - 0s 11ms/step - loss: 1.0343 - mse: 3.4160 - val_loss: 0.7979 - val_mse: 2.5393\n",
      "Epoch 13/30\n",
      "4/4 [==============================] - 0s 10ms/step - loss: 1.0163 - mse: 3.3100 - val_loss: 0.7831 - val_mse: 2.5200\n",
      "Epoch 14/30\n",
      "4/4 [==============================] - 0s 9ms/step - loss: 1.0362 - mse: 3.3809 - val_loss: 0.7779 - val_mse: 2.5361\n",
      "Epoch 15/30\n",
      "4/4 [==============================] - 0s 9ms/step - loss: 0.9562 - mse: 3.2276 - val_loss: 0.7808 - val_mse: 2.5860\n",
      "Epoch 16/30\n",
      "4/4 [==============================] - 0s 9ms/step - loss: 0.9853 - mse: 3.1823 - val_loss: 0.7829 - val_mse: 2.6196\n",
      "Epoch 17/30\n",
      "4/4 [==============================] - 0s 10ms/step - loss: 1.0007 - mse: 3.3072 - val_loss: 0.7938 - val_mse: 2.6386\n",
      "Epoch 18/30\n",
      "4/4 [==============================] - 0s 11ms/step - loss: 1.0243 - mse: 3.4660 - val_loss: 0.8284 - val_mse: 2.7208\n",
      "Train result:\n",
      "4/4 [==============================] - 0s 3ms/step - loss: 0.9703 - mse: 3.1192\n",
      "Val result:\n",
      "2/2 [==============================] - 0s 4ms/step - loss: 0.7831 - mse: 2.5200\n",
      "Test result:\n",
      "2/2 [==============================] - 0s 4ms/step - loss: 0.8547 - mse: 2.6743\n"
     ]
    }
   ],
   "source": [
    "import tensorflow as tf\n",
    "num_hidden = 64\n",
    "classical.tf_baseline(num_hidden, sequence_length, x_train, y_train, x_val, y_val, x_test, y_test)"
   ]
  },
  {
   "cell_type": "code",
   "execution_count": 14,
   "metadata": {},
   "outputs": [],
   "source": [
    "def float_to_angle(x):\n",
    "    return classical.bounded_map(x) # send to -pi, pi\n",
    "\n",
    "# Angles all have shape [batch, timesteps]\n",
    "train_angles = np.array([float_to_angle(x) for x in x_train])\n",
    "val_angles = np.array([float_to_angle(x) for x in x_val])\n",
    "test_angles = np.array([float_to_angle(x) for x in x_test])    \n",
    "\n",
    "\n",
    "train_angles_y = np.array([float_to_angle(y) for y in y_train])\n",
    "val_angles_y = np.array([float_to_angle(y) for y in y_val])\n",
    "test_angles_y = np.array([float_to_angle(y) for y in y_test])\n",
    "assert np.all(-np.pi <= train_angles)\n",
    "assert np.all(train_angles <= np.pi)"
   ]
  },
  {
   "attachments": {
    "eedd24d4-8c5c-4685-8885-46eefab0bfa1.png": {
     "image/png": "[encoded data removed]"
    }
   },
   "cell_type": "markdown",
   "metadata": {},
   "source": [
    "(3) Input the angle into Displacement gate\n",
    "===========================\n",
    "Input the angle into Displacement gate, to eventually integrate our features to the circuit. \\\n",
    "Reference of the Displacement gate: https://docs.pennylane.ai/en/stable/code/api/pennylane.Displacement.html \\\n",
    "Our current circuit is the one in \"Rapid training of QRNN\". Displacement gate is the D gate in the following figure. \\\n",
    "The I gate in the figure has been modeled by Luis into combination of basis gates (which can be found in the APIs in Pennylane). So we can first implement the circuit. Because Pennylane and Xanadu are proposed by the same company, we think that it will be smooth to run the code on Xanadu, after running on LocalSimulator.\n",
    "\n",
    "![image.png](attachment:eedd24d4-8c5c-4685-8885-46eefab0bfa1.png)"
   ]
  },
  {
   "cell_type": "markdown",
   "metadata": {},
   "source": [
    "Variational classifiers usually define a \"layer\" or \"block\", which is an\n",
    "elementary circuit architecture that gets repeated to build the\n",
    "variational circuit.\n",
    "\n",
    "Our circuit layer consists of an arbitrary rotation on every qubit, as\n",
    "well as CNOTs that entangle each qubit with its neighbour.\n"
   ]
  },
  {
   "cell_type": "code",
   "execution_count": 15,
   "metadata": {},
   "outputs": [],
   "source": [
    "depth = 1\n",
    "q_wires = 2\n",
    "combs = itertools.combinations(range(q_wires), 2)\n",
    "\n",
    "def vqc_unit(params,qc,theta):\n",
    "    # Encoding\n",
    "    qc.u(theta,0,0,1)\n",
    "    \n",
    "    # qc.barrier()\n",
    "    # Interaction\n",
    "    for m in range(depth + 1):\n",
    "        for i in range(q_wires):\n",
    "            qc.u(params[m, i, 0], params[m, i, 1], params[m, i, 2],i)\n",
    "        if m != depth:\n",
    "            qc.cx(1,0)\n",
    "\n",
    "backend = Aer.get_backend('aer_simulator')\n",
    "# it's a multi-to-one Quantum RNN\n",
    "def circuit_vqc(weights, theta):\n",
    "    circuit = QuantumCircuit(q_wires,2)\n",
    "    #print(\"len of theta: \", len(theta)) # which is == length of time series\n",
    "    for i in range(len(theta)-1):\n",
    "        vqc_unit(weights,circuit,theta[i])\n",
    "        circuit.reset([1])\n",
    "\n",
    "    vqc_unit(weights,circuit,theta[-1])   \n",
    "    circuit.measure([1], [0])\n",
    "    run_result = execute(circuit, backend=backend,shots=n_shots).result()\n",
    "    # transpiled_circuit = transpile(circuit, backend)\n",
    "    # run_result = backend.run(transpiled_circuit, shots=shots).result()\n",
    "\n",
    "    simp_counts0 = marginal_counts(run_result, indices=[0]).get_counts()\n",
    "\n",
    "    # label y -> theta_y, so prediction = 2 cos^-1(amplitude of |0>)? \n",
    "    num_ones = simp_counts0['1'] if '1' in simp_counts0 else 0\n",
    "    # Multiply by slightly less than pi so we don't ever predict infinity\n",
    "    return np.tan((num_ones/n_shots - .5) * 2.75)\n"
   ]
  },
  {
   "cell_type": "code",
   "execution_count": 93,
   "metadata": {},
   "outputs": [],
   "source": [
    "np.random.seed(2)\n",
    "num_qubits = 2\n",
    "num_layers = 1\n",
    "n_wires = 2\n",
    "weights_init_qaoa = 2 * np.pi * np.random.uniform(-1, 1, size=(depth + 1, n_wires, 3))\n",
    "# weights_4_val = np.array([ 13.26030476,  -4.85954186,  -1.48417534,  -0.57736945,\n",
    "#          4.6643797 ,  -1.18933862,   4.95008181,  13.32304439,\n",
    "#         -4.64256665,  -2.89863502,   4.90275961, -13.28259991])\n",
    "# weights_init_qaoa = np.array(weights_4_val)\n",
    "train_costs = []\n",
    "val_costs = []\n",
    "cur_weights = weights_init_qaoa.flatten().copy()\n",
    "val_freq = 5\n",
    "cur_iteration = 0\n",
    "best_val = 100\n",
    "best_val_w = cur_weights"
   ]
  },
  {
   "cell_type": "code",
   "execution_count": 94,
   "metadata": {},
   "outputs": [],
   "source": [
    "def square_loss(labels, predictions):\n",
    "    loss = []\n",
    "    for l, p in zip(labels, predictions):\n",
    "      l = classical.inv_bounded_map(l)\n",
    "      loss.append((l - p) ** 2)\n",
    "    loss = np.mean(loss)\n",
    "    return loss"
   ]
  },
  {
   "cell_type": "code",
   "execution_count": 95,
   "metadata": {},
   "outputs": [],
   "source": [
    "# https://pennylane.ai/qml/demos/spsa.html\n",
    "# in our temporal experiment, we select 50 stocks\n",
    "# each stock has 10 data points\n",
    "def cost_spsa(weights, seed=0):\n",
    "    global train_costs, val_costs, best_val, best_val_w\n",
    "    np.random.seed(seed)\n",
    "    batch_inds = np.random.randint(train_angles.shape[0], size=batch_size)\n",
    "    \n",
    "    # X contains a time series of every stock\n",
    "    X = train_angles[batch_inds, :]\n",
    "    weights = weights.reshape(weights_init_qaoa.shape)\n",
    "    predictions = [circuit_vqc(weights, x) for x in X] \n",
    "    loss = square_loss(train_angles_y[batch_inds, -1], predictions)\n",
    "    train_costs.append(loss)\n",
    "    if len(train_costs) % val_freq == 0:\n",
    "      val_loss = val_cost(cur_weights)\n",
    "      val_costs.append(val_loss)\n",
    "      print(\n",
    "          f\"Iteration = {len(train_costs)}, \"\n",
    "          f\"Val Loss = {val_loss} \"\n",
    "          f\"Train Loss = {np.mean(train_costs[-val_freq:])}\"\n",
    "      )\n",
    "      if val_loss < best_val:\n",
    "        best_val_w = cur_weights.copy()\n",
    "        best_val = val_loss\n",
    "        print(\"Update best val w\")\n",
    "    return loss\n",
    "\n",
    "def val_cost(weights, X=val_angles, y=val_angles_y):\n",
    "  weights = weights.reshape(weights_init_qaoa.shape)\n",
    "  predictions = [circuit_vqc(weights, x) for x in X] \n",
    "  return square_loss(y[:, -1], predictions)"
   ]
  },
  {
   "cell_type": "code",
   "execution_count": 96,
   "metadata": {},
   "outputs": [
    {
     "name": "stdout",
     "output_type": "stream",
     "text": [
      "Iteration = 5, Val Loss = 5.290976600111147 Train Loss = 5.62661068519228\n",
      "Update best val w\n",
      "Iteration = 10, Val Loss = 5.235849000898874 Train Loss = 6.022260604790828\n",
      "Update best val w\n",
      "Iteration = 15, Val Loss = 5.138584881398913 Train Loss = 4.909792587044561\n",
      "Update best val w\n",
      "Iteration = 20, Val Loss = 5.478865139046979 Train Loss = 5.183814641406046\n",
      "Iteration = 25, Val Loss = 5.330955727578395 Train Loss = 5.689604995880673\n",
      "Iteration = 30, Val Loss = 5.240097167880518 Train Loss = 5.704441915454344\n",
      "Iteration = 35, Val Loss = 5.6024168700453725 Train Loss = 5.489939959300876\n",
      "Iteration = 40, Val Loss = 5.123577597878802 Train Loss = 5.586581383975696\n",
      "Update best val w\n",
      "Iteration = 45, Val Loss = 5.240143041705711 Train Loss = 5.3966397132637285\n",
      "Iteration = 50, Val Loss = 5.274566037522221 Train Loss = 5.693499452132794\n",
      "Iteration = 55, Val Loss = 5.188449972517353 Train Loss = 5.112553980427002\n",
      "Iteration = 60, Val Loss = 5.363232146502996 Train Loss = 5.073875509537094\n",
      "Iteration = 65, Val Loss = 5.256756626365783 Train Loss = 5.210545297164298\n",
      "Iteration = 70, Val Loss = 5.564272813624546 Train Loss = 5.114738423835112\n",
      "Iteration = 75, Val Loss = 5.208663190832093 Train Loss = 5.556697178125345\n",
      "Iteration = 80, Val Loss = 5.37456581556958 Train Loss = 5.043903180825385\n",
      "Iteration = 85, Val Loss = 5.105492974742322 Train Loss = 5.293677966506455\n",
      "Update best val w\n",
      "Iteration = 90, Val Loss = 5.0854512719055 Train Loss = 4.96415091815179\n",
      "Update best val w\n",
      "Iteration = 95, Val Loss = 5.489304220847748 Train Loss = 5.947249024126124\n",
      "Iteration = 100, Val Loss = 5.263687351804968 Train Loss = 5.886639251460291\n",
      "Iteration = 105, Val Loss = 5.551851259899188 Train Loss = 5.932847701566714\n",
      "Iteration = 110, Val Loss = 5.302240280208625 Train Loss = 5.943813204162456\n",
      "Iteration = 115, Val Loss = 5.223225874061985 Train Loss = 5.862447453060385\n",
      "Iteration = 120, Val Loss = 5.287428579257641 Train Loss = 5.841096689899857\n",
      "Iteration = 125, Val Loss = 5.515247275457668 Train Loss = 5.920851605524605\n",
      "Iteration = 130, Val Loss = 5.1023442538205 Train Loss = 6.155489809080272\n",
      "Iteration = 135, Val Loss = 5.3228776021090685 Train Loss = 5.501297157862798\n",
      "Iteration = 140, Val Loss = 5.205359074743342 Train Loss = 5.7864186068098835\n",
      "Iteration = 145, Val Loss = 5.116123730519767 Train Loss = 6.794067687499819\n",
      "Iteration = 150, Val Loss = 5.396630664656754 Train Loss = 6.216267812497086\n",
      "Iteration = 155, Val Loss = 5.214139954794657 Train Loss = 5.710645871291531\n",
      "Iteration = 160, Val Loss = 5.353733303563553 Train Loss = 5.827511006866414\n",
      "Iteration = 165, Val Loss = 5.173216488522442 Train Loss = 5.915603881112824\n",
      "Iteration = 170, Val Loss = 4.946949162687735 Train Loss = 4.9393601372778395\n",
      "Update best val w\n",
      "Iteration = 175, Val Loss = 5.242865363447509 Train Loss = 5.410490484684579\n",
      "Iteration = 180, Val Loss = 5.409411021197414 Train Loss = 6.839398335760526\n",
      "Iteration = 185, Val Loss = 5.367208967532559 Train Loss = 5.690379549389064\n",
      "Iteration = 190, Val Loss = 5.4738320404414935 Train Loss = 5.029633524167177\n",
      "Iteration = 195, Val Loss = 5.298722761979425 Train Loss = 5.945470079153326\n",
      "Iteration = 200, Val Loss = 5.49490193310738 Train Loss = 5.444357157253587\n",
      "Iteration = 205, Val Loss = 5.279314955028036 Train Loss = 5.426483733415168\n",
      "Iteration = 210, Val Loss = 5.481142251667831 Train Loss = 6.550569609702831\n",
      "Iteration = 215, Val Loss = 5.488725331124571 Train Loss = 5.379358260885944\n",
      "Iteration = 220, Val Loss = 5.368278930138777 Train Loss = 5.648329279664292\n",
      "Iteration = 225, Val Loss = 5.244445812061231 Train Loss = 5.785929185876746\n",
      "Iteration = 230, Val Loss = 5.131585636316087 Train Loss = 6.105148072089085\n",
      "Iteration = 235, Val Loss = 5.399330117268205 Train Loss = 5.040168080968193\n"
     ]
    }
   ],
   "source": [
    "import time\n",
    "batch_size = 100\n",
    "n_shots = 50\n",
    "st = time.time()\n",
    "step_length = .01\n",
    "n_shots = 20\n",
    "pair_distance = 1 / np.sqrt(n_shots)\n",
    "res = minimizeSPSA(\n",
    "    cost_spsa,\n",
    "    x0=cur_weights.copy(),\n",
    "    niter=500,\n",
    "    paired=True,\n",
    "    c=pair_distance,\n",
    "    a=step_length,\n",
    ")\n",
    "cur_weights = res.x\n",
    "end = time.time()\n",
    "print(f\"Seconds: {end - st}\")"
   ]
  },
  {
   "cell_type": "code",
   "execution_count": null,
   "metadata": {},
   "outputs": [
    {
     "name": "stdout",
     "output_type": "stream",
     "text": [
      "array([-0.87250286, -7.24674356,  1.40386529, -0.52265621, -0.91905019,\n",
      "       -1.84622908, -1.88105464,  1.59244697, -4.29914536, -3.44292569,\n",
      "        0.4338106 ,  1.42536883])\n",
      "Cost Val 4.547453500833619 Test 3.7467154967221075\n"
     ]
    }
   ],
   "source": [
    "print(repr(best_val_w))\n",
    "print(f\"Cost Val {val_cost(best_val_w, val_angles, val_angles_y)} Test {val_cost(best_val_w, test_angles, test_angles_y)}\")"
   ]
  },
  {
   "cell_type": "code",
   "execution_count": null,
   "metadata": {},
   "outputs": [],
   "source": [
    "train_costs_smooth = np.convolve(train_costs, np.ones(30), 'valid') / 30"
   ]
  },
  {
   "cell_type": "code",
   "execution_count": 84,
   "metadata": {},
   "outputs": [
    {
     "data": {
      "text/plain": [
       "[<matplotlib.lines.Line2D at 0x7f7ec4f9ad10>]"
      ]
     },
     "execution_count": 84,
     "metadata": {},
     "output_type": "execute_result"
    },
    {
     "data": {
      "image/png": "[encoded data removed]",
      "text/plain": [
       "<Figure size 432x288 with 1 Axes>"
      ]
     },
     "metadata": {
      "needs_background": "light"
     },
     "output_type": "display_data"
    }
   ],
   "source": [
    "plt.plot(train_costs[-100:], label='train smoothed')"
   ]
  },
  {
   "cell_type": "code",
   "execution_count": 85,
   "metadata": {},
   "outputs": [
    {
     "data": {
      "image/png": "[encoded data removed]",
      "text/plain": [
       "<Figure size 432x288 with 1 Axes>"
      ]
     },
     "metadata": {
      "needs_background": "light"
     },
     "output_type": "display_data"
    }
   ],
   "source": [
    "import matplotlib.pyplot as plt\n",
    "# plt.plot(train_costs[::2], label='train')\n",
    "plt.plot(train_costs_smooth[::2], label='train smoothed')\n",
    "plt.plot(range(0, len(val_costs) * val_freq, val_freq), val_costs, label='val')\n",
    "plt.legend()\n",
    "plt.show()"
   ]
  },
  {
   "cell_type": "code",
   "execution_count": 49,
   "metadata": {},
   "outputs": [
    {
     "name": "stdout",
     "output_type": "stream",
     "text": [
      "Run 1: Cost Val 4.3849978392637405 Test 3.7402161165363355\n",
      "Run 2: Cost Val 4.409423238291353 Test 3.6450681247032275\n",
      "Run 3: Cost Val 4.49449582687786 Test 3.672710734528396\n"
     ]
    }
   ],
   "source": [
    "# Run 3 times because it will be different each time due to randomness...\n",
    "print(f\"Run 1: Cost Val {val_cost(best_val_w, val_angles, val_angles_y)} Test {val_cost(best_val_w, test_angles, test_angles_y)}\")\n",
    "print(f\"Run 2: Cost Val {val_cost(best_val_w, val_angles, val_angles_y)} Test {val_cost(best_val_w, test_angles, test_angles_y)}\")\n",
    "print(f\"Run 3: Cost Val {val_cost(best_val_w, val_angles, val_angles_y)} Test {val_cost(best_val_w, test_angles, test_angles_y)}\")"
   ]
  },
  {
   "cell_type": "markdown",
   "metadata": {},
   "source": [
    "end\n",
    "=============="
   ]
  }
 ],
 "metadata": {
  "kernelspec": {
   "display_name": "Python 3.10.6 ('shell')",
   "language": "python",
   "name": "python3"
  },
  "language_info": {
   "codemirror_mode": {
    "name": "ipython",
    "version": 3
   },
   "file_extension": ".py",
   "mimetype": "text/x-python",
   "name": "python",
   "nbconvert_exporter": "python",
   "pygments_lexer": "ipython3",
   "version": "3.10.6"
  },
  "vscode": {
   "interpreter": {
    "hash": "4038de0031c3eca0fb5eddbf4e04e4daf17a1d48d1a480ba39d74d4e03b4a053"
   }
  },
  "widgets": {
   "application/vnd.jupyter.widget-state+json": {
    "state": {
     "054cdeb1aba34a5eb0b9ccd58c8d067b": {
      "model_module": "@jupyter-widgets/base",
      "model_module_version": "1.2.0",
      "model_name": "LayoutModel",
      "state": {}
     },
     "069849812b5c45bb8bfe6c7c5e23a386": {
      "model_module": "@jupyter-widgets/base",
      "model_module_version": "1.2.0",
      "model_name": "LayoutModel",
      "state": {
       "grid_area": "right",
       "padding": "0px 0px 0px 0px",
       "width": "70px"
      }
     },
     "0b4a0185e5c846009757f21038d50319": {
      "model_module": "@jupyter-widgets/base",
      "model_module_version": "1.2.0",
      "model_name": "LayoutModel",
      "state": {
       "margin": "0px 0px 10px 0px"
      }
     },
     "0d2385df917b4f0cac08338e1b091189": {
      "model_module": "@jupyter-widgets/controls",
      "model_module_version": "1.5.0",
      "model_name": "HTMLModel",
      "state": {
       "layout": "IPY_MODEL_f939952c3f8e41439a75331675c21c03",
       "style": "IPY_MODEL_a5320dee115f49c3832343f88be3a787",
       "value": "<h5>Status</h5>"
      }
     },
     "30d53dee07cb41afa36ac219234302b8": {
      "model_module": "@jupyter-widgets/controls",
      "model_module_version": "1.5.0",
      "model_name": "HBoxModel",
      "state": {
       "children": [
        "IPY_MODEL_58be3709e2d348cbb1fcf1f598c3d1e7",
        "IPY_MODEL_a124af975882493bab46d35944954e12",
        "IPY_MODEL_0d2385df917b4f0cac08338e1b091189",
        "IPY_MODEL_3aa32b79ce2543b2af69bd902861d160",
        "IPY_MODEL_e24a09f168f446c1adda400682d0e9c9"
       ],
       "layout": "IPY_MODEL_a0c5c20b92a947d4af9e0f4df08802b2"
      }
     },
     "312058f0f7c34e14adcaf607d7842958": {
      "model_module": "@jupyter-widgets/controls",
      "model_module_version": "1.5.0",
      "model_name": "HTMLModel",
      "state": {
       "layout": "IPY_MODEL_0b4a0185e5c846009757f21038d50319",
       "style": "IPY_MODEL_f2035068052942ea94c4f6357eb47522",
       "value": "<p style='font-family: IBM Plex Sans, Arial, Helvetica, sans-serif; font-size: 20px; font-weight: medium;'>Circuit Properties</p>"
      }
     },
     "33a01a42c4ea4ee4a4a86beec470625b": {
      "model_module": "@jupyter-widgets/base",
      "model_module_version": "1.2.0",
      "model_name": "LayoutModel",
      "state": {
       "width": "190px"
      }
     },
     "353df14b43e24c4eae60ef863209103f": {
      "model_module": "@jupyter-widgets/controls",
      "model_module_version": "1.5.0",
      "model_name": "ButtonModel",
      "state": {
       "button_style": "primary",
       "description": "Clear",
       "layout": "IPY_MODEL_069849812b5c45bb8bfe6c7c5e23a386",
       "style": "IPY_MODEL_9bd11f9b462740d4bb21dabeef44552c"
      }
     },
     "3aa32b79ce2543b2af69bd902861d160": {
      "model_module": "@jupyter-widgets/controls",
      "model_module_version": "1.5.0",
      "model_name": "HTMLModel",
      "state": {
       "layout": "IPY_MODEL_62740e8b83ba4da092ad574007250e9f",
       "style": "IPY_MODEL_5fe8131a387f4cdcacd5c82c148b7f6e",
       "value": "<h5>Queue</h5>"
      }
     },
     "4e5d3bdfd77f4aa99ae6ff5a143c1c92": {
      "model_module": "@jupyter-widgets/base",
      "model_module_version": "1.2.0",
      "model_name": "LayoutModel",
      "state": {
       "grid_template_areas": "\n                                       \". . . . right \"\n                                        ",
       "grid_template_columns": "20% 20% 20% 20% 20%",
       "width": "100%"
      }
     },
     "58be3709e2d348cbb1fcf1f598c3d1e7": {
      "model_module": "@jupyter-widgets/controls",
      "model_module_version": "1.5.0",
      "model_name": "HTMLModel",
      "state": {
       "layout": "IPY_MODEL_33a01a42c4ea4ee4a4a86beec470625b",
       "style": "IPY_MODEL_b1c91497d6d74e6385fe735009887858",
       "value": "<h5>Job ID</h5>"
      }
     },
     "5fe8131a387f4cdcacd5c82c148b7f6e": {
      "model_module": "@jupyter-widgets/controls",
      "model_module_version": "1.5.0",
      "model_name": "DescriptionStyleModel",
      "state": {
       "description_width": ""
      }
     },
     "62740e8b83ba4da092ad574007250e9f": {
      "model_module": "@jupyter-widgets/base",
      "model_module_version": "1.2.0",
      "model_name": "LayoutModel",
      "state": {
       "width": "70px"
      }
     },
     "64ab19dcefe24c49a2ef0ec33e488685": {
      "model_module": "@jupyter-widgets/base",
      "model_module_version": "1.2.0",
      "model_name": "LayoutModel",
      "state": {
       "width": "145px"
      }
     },
     "65bf3807cf5e4ee7bb246c6f692c51ee": {
      "model_module": "@jupyter-widgets/controls",
      "model_module_version": "1.5.0",
      "model_name": "DescriptionStyleModel",
      "state": {
       "description_width": ""
      }
     },
     "9bd11f9b462740d4bb21dabeef44552c": {
      "model_module": "@jupyter-widgets/controls",
      "model_module_version": "1.5.0",
      "model_name": "ButtonStyleModel",
      "state": {}
     },
     "a0c5c20b92a947d4af9e0f4df08802b2": {
      "model_module": "@jupyter-widgets/base",
      "model_module_version": "1.2.0",
      "model_name": "LayoutModel",
      "state": {
       "margin": "0px 0px 0px 37px",
       "width": "600px"
      }
     },
     "a124af975882493bab46d35944954e12": {
      "model_module": "@jupyter-widgets/controls",
      "model_module_version": "1.5.0",
      "model_name": "HTMLModel",
      "state": {
       "layout": "IPY_MODEL_64ab19dcefe24c49a2ef0ec33e488685",
       "style": "IPY_MODEL_65bf3807cf5e4ee7bb246c6f692c51ee",
       "value": "<h5>Backend</h5>"
      }
     },
     "a5320dee115f49c3832343f88be3a787": {
      "model_module": "@jupyter-widgets/controls",
      "model_module_version": "1.5.0",
      "model_name": "DescriptionStyleModel",
      "state": {
       "description_width": ""
      }
     },
     "b1c91497d6d74e6385fe735009887858": {
      "model_module": "@jupyter-widgets/controls",
      "model_module_version": "1.5.0",
      "model_name": "DescriptionStyleModel",
      "state": {
       "description_width": ""
      }
     },
     "c303602760664066a3ac7c641609688f": {
      "model_module": "@jupyter-widgets/controls",
      "model_module_version": "1.5.0",
      "model_name": "GridBoxModel",
      "state": {
       "children": [
        "IPY_MODEL_353df14b43e24c4eae60ef863209103f"
       ],
       "layout": "IPY_MODEL_4e5d3bdfd77f4aa99ae6ff5a143c1c92"
      }
     },
     "e24a09f168f446c1adda400682d0e9c9": {
      "model_module": "@jupyter-widgets/controls",
      "model_module_version": "1.5.0",
      "model_name": "HTMLModel",
      "state": {
       "layout": "IPY_MODEL_054cdeb1aba34a5eb0b9ccd58c8d067b",
       "style": "IPY_MODEL_fa90ee2af135426e83c56c4230cd9173",
       "value": "<h5>Message</h5>"
      }
     },
     "f2035068052942ea94c4f6357eb47522": {
      "model_module": "@jupyter-widgets/controls",
      "model_module_version": "1.5.0",
      "model_name": "DescriptionStyleModel",
      "state": {
       "description_width": ""
      }
     },
     "f939952c3f8e41439a75331675c21c03": {
      "model_module": "@jupyter-widgets/base",
      "model_module_version": "1.2.0",
      "model_name": "LayoutModel",
      "state": {
       "width": "95px"
      }
     },
     "fa90ee2af135426e83c56c4230cd9173": {
      "model_module": "@jupyter-widgets/controls",
      "model_module_version": "1.5.0",
      "model_name": "DescriptionStyleModel",
      "state": {
       "description_width": ""
      }
     }
    },
    "version_major": 2,
    "version_minor": 0
   }
  }
 },
 "nbformat": 4,
 "nbformat_minor": 4
}
