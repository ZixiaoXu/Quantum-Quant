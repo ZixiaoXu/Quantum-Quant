{
 "cells": [
  {
   "cell_type": "code",
   "execution_count": 93,
   "metadata": {},
   "outputs": [],
   "source": [
    "import sys\n",
    "import warnings\n",
    "import matplotlib.pyplot as plt\n",
    "import numpy as np\n",
    "import itertools\n",
    "import math\n",
    "\n",
    "# Importing standard Qiskit libraries\n",
    "from qiskit import QuantumCircuit, transpile, Aer, IBMQ, execute\n",
    "from qiskit.tools.jupyter import *\n",
    "from qiskit.visualization import *\n",
    "#from ibm_quantum_widgets import *\n",
    "from qiskit.providers.aer import QasmSimulator\n",
    "from qiskit.result import marginal_counts\n",
    "from qiskit.providers.ibmq.job import job_monitor\n",
    "from qiskit.tools.visualization import plot_histogram\n",
    "import qiskit.quantum_info as qi\n",
    "# Loading your IBM Quantum account(s)\n",
    "#provider = IBMQ.load_account()"
   ]
  },
  {
   "cell_type": "code",
   "execution_count": 94,
   "metadata": {},
   "outputs": [],
   "source": [
    "# %matplotlib inline\n",
    "# !pip install --quiet noisyopt\n",
    "# !pip install --quiet numba --upgrade --user\n",
    "# !pip install --quiet pennylane-sf --upgrade\n",
    "from noisyopt import minimizeSPSA\n",
    "import numpy as np\n",
    "import itertools"
   ]
  },
  {
   "cell_type": "markdown",
   "metadata": {},
   "source": [
    "(0) Load the dataset and process it likewise the classical method\n",
    "======================"
   ]
  },
  {
   "cell_type": "code",
   "execution_count": 95,
   "metadata": {},
   "outputs": [],
   "source": [
    "import classical"
   ]
  },
  {
   "cell_type": "code",
   "execution_count": 96,
   "metadata": {},
   "outputs": [
    {
     "name": "stderr",
     "output_type": "stream",
     "text": [
      "100%|██████████| 1000/1000 [00:05<00:00, 196.91it/s]\n"
     ]
    },
    {
     "name": "stdout",
     "output_type": "stream",
     "text": [
      "Preprocessing Data\n"
     ]
    }
   ],
   "source": [
    "sequence_length = 5\n",
    "x_train, y_train, x_val, y_val, x_test, y_test = \\\n",
    "    classical.get_data(sequence_length, n_stocks_train=1000, n_stocks_val=64)"
   ]
  },
  {
   "cell_type": "markdown",
   "metadata": {},
   "source": [
    "(1) First consider the case with only 1 feature (closed price). Normalize our feature x_1. \n",
    "======================\n",
    "Our current data encoding method (from a floating point number to an angle), requires the floating number between (0,1]. So we need to first process the data using min-max normalization (like what we did to the volumn)\n"
   ]
  },
  {
   "cell_type": "markdown",
   "metadata": {},
   "source": [
    "(2) Encode the normalized feature into an angle\n",
    "======================\n",
    "\n",
    "$$x_i` = \\sqrt{(1-x_i^2)}$$\n",
    "$$ angle \\space \\phi = \\arctan{(x`_i/x_i)}$$"
   ]
  },
  {
   "cell_type": "code",
   "execution_count": 97,
   "metadata": {},
   "outputs": [],
   "source": [
    "def get_open_only(x_data):\n",
    "    return [x_datapoint[:, 3] for x_datapoint in x_data]\n",
    "x_train = get_open_only(x_train)\n",
    "x_val = get_open_only(x_val)\n",
    "x_test = get_open_only(x_test)"
   ]
  },
  {
   "cell_type": "code",
   "execution_count": 98,
   "metadata": {},
   "outputs": [
    {
     "name": "stdout",
     "output_type": "stream",
     "text": [
      "[array([-3.1315503 , -2.1947892 ,  1.2435393 , -0.60537726,  0.4447334 ],\n",
      "      dtype=float32), array([-1.4355786 , -1.0054634 ,  1.4464233 ,  0.67382866, -0.31385085],\n",
      "      dtype=float32), array([-0.7968674 ,  0.8769541 ,  0.08015199,  0.563164  , -0.08067413],\n",
      "      dtype=float32), array([ 3.2210429, -2.2413082,  1.2032115, -3.1077511, -2.9586403],\n",
      "      dtype=float32), array([-5.       , -4.653248 , -0.6964416, -2.62231  , -0.3327504],\n",
      "      dtype=float32), array([-2.0500941 , -1.1382251 ,  1.5711751 , -1.7820092 ,  0.70592475],\n",
      "      dtype=float32), array([-0.4892021 , -1.5434935 , -0.64563805, -2.0259109 ,  0.46378002],\n",
      "      dtype=float32), array([-3.5440435 , -0.92806077,  0.5908147 ,  0.8690969 , -0.11472233],\n",
      "      dtype=float32), array([-0.69631636,  0.40735066,  0.45060736, -0.9978766 ,  0.42472148],\n",
      "      dtype=float32), array([-1.0775361 , -0.62396574,  0.29385796, -2.349857  ,  0.8984398 ],\n",
      "      dtype=float32), array([-5.       , -2.819002 ,  0.8105886, -1.2346722,  1.3308716],\n",
      "      dtype=float32), array([ 0.26381296, -2.7539499 ,  2.5478413 , -1.409146  ,  0.91913575],\n",
      "      dtype=float32), array([ 1.6690919, -0.4220846,  1.371127 , -3.1827726,  0.5165385],\n",
      "      dtype=float32), array([-2.6365705 , -0.57155794,  2.1066666 ,  0.2285623 , -1.763671  ],\n",
      "      dtype=float32), array([-5.        , -1.0782297 ,  1.3777477 , -0.3988288 , -0.74983156],\n",
      "      dtype=float32), array([-0.25578314,  0.04231637,  0.73906535,  2.2656991 , -0.61319304],\n",
      "      dtype=float32), array([-0.55437326, -2.0710888 ,  1.5319365 , -0.63297194,  0.31492597],\n",
      "      dtype=float32), array([-1.5441203, -2.8212566,  1.4349992, -1.2727699, -0.5374951],\n",
      "      dtype=float32), array([-1.5272306 , -0.5961403 ,  1.1395327 ,  1.3278435 , -0.17306377],\n",
      "      dtype=float32), array([-2.0917053,  0.       ,  1.0132062,  0.       ,  0.       ],\n",
      "      dtype=float32), array([-0.9830809 , -1.6571009 ,  0.23201615,  0.46866086,  0.5947195 ],\n",
      "      dtype=float32), array([ 2.7636747 , -0.2874327 ,  0.577488  , -0.29005527,  0.5827815 ],\n",
      "      dtype=float32), array([ 5.        , -4.8411937 , -0.46846366,  0.95144856, -1.2937776 ],\n",
      "      dtype=float32), array([-2.2840557,  0.6421103,  1.7491605,  1.8779371, -0.9939323],\n",
      "      dtype=float32), array([-2.7612302 , -2.1922064 ,  1.0354656 , -1.3763628 ,  0.38976973],\n",
      "      dtype=float32), array([-0.00940561,  0.03769708,  0.03789495,  0.00950467, -0.0850967 ],\n",
      "      dtype=float32), array([-2.9194622 , -1.0080359 ,  1.45237   ,  0.36129427,  0.3346013 ],\n",
      "      dtype=float32), array([-1.1094363 , -3.5295458 ,  0.649117  ,  0.059659  ,  0.46609163],\n",
      "      dtype=float32), array([-0.5507379 , -0.30902454,  1.505349  ,  0.5797697 , -0.33303994],\n",
      "      dtype=float32), array([-1.9726963, -1.8480045,  1.9065542, -1.054887 ,  1.1722261],\n",
      "      dtype=float32), array([-4.143096  , -2.102046  ,  2.18812   ,  0.08636544,  0.83541036],\n",
      "      dtype=float32), array([ 0.48327115, -0.7201015 ,  2.2534883 ,  1.386461  ,  1.4715784 ],\n",
      "      dtype=float32), array([ 0.55816984, -1.3415943 , -1.5200018 , -1.5331604 ,  1.5331604 ],\n",
      "      dtype=float32), array([-2.0067947 , -0.18599887,  1.2772824 ,  1.8426528 , -0.99655086],\n",
      "      dtype=float32), array([-0.68651086,  1.4972407 ,  2.1162233 ,  1.703804  , -0.61945313],\n",
      "      dtype=float32), array([-4.452988 , -0.8482696,  1.4391952,  0.8389842, -1.1783134],\n",
      "      dtype=float32), array([-1.581969  , -3.5059237 ,  3.5512912 , -0.98266906, -1.2905271 ],\n",
      "      dtype=float32), array([ 0.       ,  0.       , -1.8892105, -1.726136 ,  0.       ],\n",
      "      dtype=float32), array([ 0.5453657 , -3.0722392 , -0.07653357, -1.8805115 ,  2.0183659 ],\n",
      "      dtype=float32), array([-0.6782946 , -3.6274114 ,  3.2454576 , -2.2775533 ,  0.02230267],\n",
      "      dtype=float32), array([ 1.5240057, -4.085339 ,  2.047545 , -0.6568017, -0.7172284],\n",
      "      dtype=float32), array([-1.2883309 , -1.502542  ,  1.3164157 , -0.5240758 ,  0.46217412],\n",
      "      dtype=float32), array([ 0.96402335, -3.365223  ,  3.0585575 , -1.8097706 , -0.77195406],\n",
      "      dtype=float32), array([-2.6073885 , -2.352852  ,  0.22622597, -1.696176  , -0.04393091],\n",
      "      dtype=float32), array([ 2.0467997 , -0.88759077,  3.9633973 , -0.7863109 , -1.0207689 ],\n",
      "      dtype=float32), array([-0.52258265,  0.30529475, -0.4557486 , -2.7915046 , -0.995909  ],\n",
      "      dtype=float32), array([ 1.1656849, -1.6376845,  1.5746838, -1.2809361, -1.812331 ],\n",
      "      dtype=float32), array([-5.        , -0.254371  ,  0.6177274 ,  1.9582857 , -0.29552737],\n",
      "      dtype=float32), array([ 1.3806789 , -0.5062552 ,  0.3148147 ,  0.53664637,  1.3071027 ],\n",
      "      dtype=float32), array([ 0.9519452 , -0.02750844,  3.809208  , -1.7270199 , -0.46058884],\n",
      "      dtype=float32), array([ 1.2807968, -0.504714 ,  3.171754 , -2.854876 , -1.1291779],\n",
      "      dtype=float32), array([-0.24552938, -2.9901161 ,  1.7479805 ,  0.07833713, -0.3638494 ],\n",
      "      dtype=float32), array([ 0.58036536, -0.58036536,  0.43306285,  0.44651502,  1.4293162 ],\n",
      "      dtype=float32), array([ 0.5733218 , -2.757472  ,  0.7630343 , -0.21359602, -0.14140931],\n",
      "      dtype=float32), array([-3.237453  , -4.2331185 ,  2.717998  ,  1.3233155 , -0.72143084],\n",
      "      dtype=float32), array([-1.4616615,  0.2662957,  1.1953658,  0.2673462,  1.4444643],\n",
      "      dtype=float32), array([ 2.7393007 , -4.11437   ,  0.64762396, -1.836575  ,  0.        ],\n",
      "      dtype=float32), array([-2.311631  ,  0.8906288 ,  0.5417733 ,  0.        , -0.05009669],\n",
      "      dtype=float32), array([-1.491599  , -4.5475144 ,  1.1049056 , -0.05007446, -0.5693163 ],\n",
      "      dtype=float32), array([ 0.14146762, -0.330781  ,  0.        ,  0.11979073, -0.48166025],\n",
      "      dtype=float32), array([-1.7165548, -2.6497748, -1.475101 , -1.9734516,  1.1977417],\n",
      "      dtype=float32), array([-4.1387663,  1.5827869,  0.9567146,  0.       , -0.9567146],\n",
      "      dtype=float32), array([-0.6634379, -2.664787 ,  1.2264407, -1.9431199,  1.1398447],\n",
      "      dtype=float32), array([-1.2043512 , -2.5084078 ,  1.1530721 , -1.3322362 , -0.15860817],\n",
      "      dtype=float32)]\n"
     ]
    }
   ],
   "source": [
    "print(x_test)"
   ]
  },
  {
   "cell_type": "code",
   "execution_count": 99,
   "metadata": {},
   "outputs": [
    {
     "name": "stdout",
     "output_type": "stream",
     "text": [
      "925\n"
     ]
    }
   ],
   "source": [
    "print(len(y_train))"
   ]
  },
  {
   "cell_type": "code",
   "execution_count": 100,
   "metadata": {},
   "outputs": [
    {
     "name": "stdout",
     "output_type": "stream",
     "text": [
      "train Loss: 0.6142201519060917\n",
      "Val Loss: 3.5540108373690384\n",
      "Test Loss: 6.637646869843274\n"
     ]
    }
   ],
   "source": [
    "def contant_baseline():\n",
    "  pred_value = 0\n",
    "  for y in y_train:\n",
    "    pred_value += y[-1]\n",
    "  pred_value /= len(y_train)\n",
    "\n",
    "  for name, test_set in (\"train\", y_train), (\"Val\", y_val), (\"Test\", y_test):\n",
    "    losses = []\n",
    "    for y in test_set:\n",
    "        losses.append((y[-1] - pred_value) ** 2)\n",
    "    print(f\"{name} Loss: {sum(losses) / len(losses)}\")\n",
    "contant_baseline()"
   ]
  },
  {
   "cell_type": "code",
   "execution_count": 101,
   "metadata": {},
   "outputs": [
    {
     "name": "stdout",
     "output_type": "stream",
     "text": [
      "Model: \"model_3\"\n",
      "_________________________________________________________________\n",
      "Layer (type)                 Output Shape              Param #   \n",
      "=================================================================\n",
      "input_4 (InputLayer)         [(None, 5, 1)]            0         \n",
      "_________________________________________________________________\n",
      "lstm_3 (LSTM)                (None, 64)                16896     \n",
      "_________________________________________________________________\n",
      "dense_3 (Dense)              (None, 1)                 65        \n",
      "=================================================================\n",
      "Total params: 16,961\n",
      "Trainable params: 16,961\n",
      "Non-trainable params: 0\n",
      "_________________________________________________________________\n",
      "Epoch 1/30\n",
      "29/29 [==============================] - 3s 21ms/step - loss: 0.2591 - mse: 0.6358 - val_loss: 0.7658 - val_mse: 2.2748\n",
      "Epoch 2/30\n",
      "29/29 [==============================] - 0s 6ms/step - loss: 0.2489 - mse: 0.6043 - val_loss: 0.7382 - val_mse: 2.1820\n",
      "Epoch 3/30\n",
      "29/29 [==============================] - 0s 7ms/step - loss: 0.2482 - mse: 0.6044 - val_loss: 0.7399 - val_mse: 2.1821\n",
      "Epoch 4/30\n",
      "29/29 [==============================] - 0s 7ms/step - loss: 0.2487 - mse: 0.6053 - val_loss: 0.7406 - val_mse: 2.1866\n",
      "Epoch 5/30\n",
      "29/29 [==============================] - 0s 5ms/step - loss: 0.2493 - mse: 0.6078 - val_loss: 0.7394 - val_mse: 2.1823\n",
      "Epoch 6/30\n",
      "29/29 [==============================] - 0s 7ms/step - loss: 0.2487 - mse: 0.6069 - val_loss: 0.7380 - val_mse: 2.1796\n",
      "Epoch 7/30\n",
      "29/29 [==============================] - 0s 6ms/step - loss: 0.2467 - mse: 0.6002 - val_loss: 0.7381 - val_mse: 2.1753\n",
      "Epoch 8/30\n",
      "29/29 [==============================] - 0s 6ms/step - loss: 0.2485 - mse: 0.6054 - val_loss: 0.7362 - val_mse: 2.1774\n",
      "Epoch 9/30\n",
      "29/29 [==============================] - 0s 10ms/step - loss: 0.2451 - mse: 0.5994 - val_loss: 0.7287 - val_mse: 2.1517\n",
      "Epoch 10/30\n",
      "29/29 [==============================] - 0s 7ms/step - loss: 0.2462 - mse: 0.6002 - val_loss: 0.7354 - val_mse: 2.1732\n",
      "Epoch 11/30\n",
      "29/29 [==============================] - 0s 6ms/step - loss: 0.2454 - mse: 0.6022 - val_loss: 0.7326 - val_mse: 2.1681\n",
      "Epoch 12/30\n",
      "29/29 [==============================] - 0s 6ms/step - loss: 0.2456 - mse: 0.6008 - val_loss: 0.7326 - val_mse: 2.1675\n",
      "Epoch 13/30\n",
      "29/29 [==============================] - 0s 6ms/step - loss: 0.2446 - mse: 0.5946 - val_loss: 0.7338 - val_mse: 2.1746\n",
      "Epoch 14/30\n",
      "29/29 [==============================] - 0s 6ms/step - loss: 0.2438 - mse: 0.5970 - val_loss: 0.7317 - val_mse: 2.1664\n"
     ]
    }
   ],
   "source": [
    "import tensorflow as tf\n",
    "num_hidden = 64\n",
    "model_tf = classical.make_lstm(sequence_length, 1, num_hidden)\n",
    "train_tf = tf.data.Dataset.from_tensor_slices((x_train, y_train))\n",
    "val_tf = tf.data.Dataset.from_tensor_slices((x_val, y_val))\n",
    "model_tf = classical.train_model(model_tf, train_tf, val_tf)"
   ]
  },
  {
   "cell_type": "code",
   "execution_count": 102,
   "metadata": {},
   "outputs": [
    {
     "name": "stdout",
     "output_type": "stream",
     "text": [
      "29/29 [==============================] - 0s 2ms/step - loss: 0.2396 - mse: 0.5801\n",
      "2/2 [==============================] - 0s 6ms/step - loss: 0.7287 - mse: 2.1517\n",
      "2/2 [==============================] - 0s 3ms/step - loss: 0.9464 - mse: 3.1442\n"
     ]
    },
    {
     "data": {
      "text/plain": [
       "[0.946351170539856, 3.1442112922668457]"
      ]
     },
     "execution_count": 102,
     "metadata": {},
     "output_type": "execute_result"
    }
   ],
   "source": [
    "test_tf = tf.data.Dataset.from_tensor_slices((x_test, y_test))\n",
    "model_tf.evaluate(train_tf.batch(32))\n",
    "model_tf.evaluate(val_tf.batch(32))\n",
    "model_tf.evaluate(test_tf.batch(32))"
   ]
  },
  {
   "cell_type": "code",
   "execution_count": 103,
   "metadata": {},
   "outputs": [],
   "source": [
    "def float_to_angle(x):\n",
    "    return classical.bounded_map(x) # send to -pi, pi\n",
    "\n",
    "# Angles all have shape [batch, timesteps]\n",
    "train_angles = np.array([float_to_angle(x) for x in x_train])\n",
    "val_angles = np.array([float_to_angle(x) for x in x_val])\n",
    "test_angles = np.array([float_to_angle(x) for x in x_test])    \n",
    "\n",
    "\n",
    "train_angles_y = np.array([float_to_angle(y) for y in y_train])\n",
    "val_angles_y = np.array([float_to_angle(y) for y in y_val])\n",
    "test_angles_y = np.array([float_to_angle(y) for y in y_test])\n",
    "assert np.all(-np.pi <= train_angles)\n",
    "assert np.all(train_angles <= np.pi)"
   ]
  },
  {
   "attachments": {
    "eedd24d4-8c5c-4685-8885-46eefab0bfa1.png": {
     "image/png": "[encoded data removed]"
    }
   },
   "cell_type": "markdown",
   "metadata": {},
   "source": [
    "(3) Input the angle into Displacement gate\n",
    "===========================\n",
    "Input the angle into Displacement gate, to eventually integrate our features to the circuit. \\\n",
    "Reference of the Displacement gate: https://docs.pennylane.ai/en/stable/code/api/pennylane.Displacement.html \\\n",
    "Our current circuit is the one in \"Rapid training of QRNN\". Displacement gate is the D gate in the following figure. \\\n",
    "The I gate in the figure has been modeled by Luis into combination of basis gates (which can be found in the APIs in Pennylane). So we can first implement the circuit. Because Pennylane and Xanadu are proposed by the same company, we think that it will be smooth to run the code on Xanadu, after running on LocalSimulator.\n",
    "\n",
    "![image.png](attachment:eedd24d4-8c5c-4685-8885-46eefab0bfa1.png)"
   ]
  },
  {
   "cell_type": "markdown",
   "metadata": {},
   "source": [
    "Variational classifiers usually define a \"layer\" or \"block\", which is an\n",
    "elementary circuit architecture that gets repeated to build the\n",
    "variational circuit.\n",
    "\n",
    "Our circuit layer consists of an arbitrary rotation on every qubit, as\n",
    "well as CNOTs that entangle each qubit with its neighbour.\n"
   ]
  },
  {
   "cell_type": "code",
   "execution_count": 104,
   "metadata": {},
   "outputs": [],
   "source": [
    "depth = 1\n",
    "q_wires = 2\n",
    "combs = itertools.combinations(range(q_wires), 2)\n",
    "\n",
    "def vqc_unit(params,qc,theta):\n",
    "    # Encoding\n",
    "    qc.u(theta,0,0,1)\n",
    "    \n",
    "    # qc.barrier()\n",
    "    # Interaction\n",
    "    for m in range(depth + 1):\n",
    "        for i in range(q_wires):\n",
    "            qc.u(params[m, i, 0], params[m, i, 1], params[m, i, 2],i)\n",
    "        if m != depth:\n",
    "            qc.cx(1,0)\n",
    "\n",
    "shots = 100\n",
    "backend = Aer.get_backend('aer_simulator')\n",
    "# it's a multi-to-one Quantum RNN\n",
    "def circuit_vqc(weights, theta):\n",
    "    circuit = QuantumCircuit(q_wires,2)\n",
    "    #print(\"len of theta: \", len(theta)) # which is == length of time series\n",
    "    for i in range(len(theta)-1):\n",
    "        vqc_unit(weights,circuit,theta[i])\n",
    "        circuit.reset([1])\n",
    "\n",
    "    vqc_unit(weights,circuit,theta[-1])   \n",
    "    circuit.measure([1], [0])\n",
    "    run_result = execute(circuit, backend=backend,shots=shots).result()\n",
    "    # transpiled_circuit = transpile(circuit, backend)\n",
    "    # run_result = backend.run(transpiled_circuit, shots=shots).result()\n",
    "\n",
    "    simp_counts0 = marginal_counts(run_result, indices=[0]).get_counts()\n",
    "\n",
    "    # label y -> theta_y, so prediction = 2 cos^-1(amplitude of |0>)? \n",
    "    num_ones = simp_counts0['1'] if '1' in simp_counts0 else 0\n",
    "    # Multiply by slightly less than pi so we don't ever predict infinity\n",
    "    return np.tan((num_ones/shots - .5) * 2.75)\n"
   ]
  },
  {
   "cell_type": "code",
   "execution_count": 105,
   "metadata": {},
   "outputs": [],
   "source": [
    "np.random.seed(2)\n",
    "num_qubits = 2\n",
    "num_layers = 1\n",
    "n_wires = 2\n",
    "weights_init_qaoa = 2 * np.pi * np.random.randn(depth + 1, n_wires, 3)\n",
    "# weights_init_2_37 = [[[7.61374852,  22.78989675,  -5.05269721],  [11.73029474, -34.41191977,\n",
    "#   -0.62629259]],  [[16.80420492, -23.27697199, -16.3814021],  [-25.9409255,\n",
    "#   21.83145357,  -6.12175864]]]\n",
    "# weights_init_qaoa = np.array(weights_init_2_37)"
   ]
  },
  {
   "cell_type": "code",
   "execution_count": 106,
   "metadata": {},
   "outputs": [],
   "source": [
    "def square_loss(labels, predictions):\n",
    "    loss = []\n",
    "    for l, p in zip(labels, predictions):\n",
    "      l = classical.inv_bounded_map(l)\n",
    "      loss.append((l - p) ** 2)\n",
    "    loss = np.mean(loss)\n",
    "    return loss"
   ]
  },
  {
   "cell_type": "code",
   "execution_count": 107,
   "metadata": {},
   "outputs": [],
   "source": [
    "# https://pennylane.ai/qml/demos/spsa.html\n",
    "# in our temporal experiment, we select 50 stocks\n",
    "# each stock has 10 data points\n",
    "train_costs = []\n",
    "val_costs = []\n",
    "cur_weights = weights_init_qaoa.flatten().copy()\n",
    "iteration_num = 0\n",
    "val_freq = 5\n",
    "best_val = 100\n",
    "batch_size = 16\n",
    "best_val_w = cur_weights\n",
    "def cost_spsa(weights, seed=0):\n",
    "    np.random.seed(seed)\n",
    "    batch_inds = np.random.randint(train_angles.shape[0], size=batch_size)\n",
    "    \n",
    "    # X contains a time series of every stock\n",
    "    X = train_angles[batch_inds, :]\n",
    "    weights = weights.reshape(weights_init_qaoa.shape)\n",
    "    predictions = [circuit_vqc(weights, x) for x in X] \n",
    "    loss = square_loss(train_angles_y[batch_inds, -1], predictions)\n",
    "    train_costs.append(loss)\n",
    "    return loss\n",
    "\n",
    "def val_cost(weights, X=val_angles, y=val_angles_y):\n",
    "  weights = weights.reshape(weights_init_qaoa.shape)\n",
    "  predictions = [circuit_vqc(weights, x) for x in X] \n",
    "  return square_loss(y[:, -1], predictions)\n",
    "\n",
    "def callback_fn(w):\n",
    "    global iteration_num, best_val\n",
    "\n",
    "    iteration_num += 1\n",
    "    if (iteration_num - 1) % val_freq == 0:\n",
    "      val_loss = val_cost(w)\n",
    "      val_costs.append(val_loss)\n",
    "\n",
    "      print(\n",
    "          f\"Iteration = {iteration_num}, \"\n",
    "          f\"Val Loss = {val_loss} \"\n",
    "          f\"Train Loss = {np.mean(train_costs[-val_freq:-1])}\"\n",
    "      )\n",
    "      if val_loss < best_val:\n",
    "        best_val_w = w\n",
    "        best_val = val_loss\n",
    "        print(\"Update best val w\")"
   ]
  },
  {
   "cell_type": "code",
   "execution_count": 108,
   "metadata": {},
   "outputs": [
    {
     "name": "stdout",
     "output_type": "stream",
     "text": [
      "Iteration = 1, Val Loss = 2.5448144865699254 Train Loss = 1.488883429646345\n",
      "Update best val w\n",
      "Iteration = 6, Val Loss = 2.5728742995878453 Train Loss = 3.4289161410351494\n",
      "Iteration = 11, Val Loss = 2.78226797528452 Train Loss = 1.1568942700437956\n",
      "Iteration = 16, Val Loss = 2.681171731177304 Train Loss = 0.7651734918535296\n",
      "Iteration = 21, Val Loss = 2.793173172656052 Train Loss = 1.4442233478048048\n",
      "Iteration = 26, Val Loss = 2.7382520553422487 Train Loss = 1.972612280375382\n",
      "Iteration = 31, Val Loss = 2.828415346327471 Train Loss = 1.2466075183909715\n"
     ]
    }
   ],
   "source": [
    "res = minimizeSPSA(\n",
    "    cost_spsa,\n",
    "    x0=cur_weights,\n",
    "    niter=60,\n",
    "    paired=True,\n",
    "    c=0.01,\n",
    "    a=0.003,\n",
    "    callback=callback_fn,\n",
    ")\n",
    "cur_weights = res.x"
   ]
  },
  {
   "cell_type": "code",
   "execution_count": null,
   "metadata": {},
   "outputs": [
    {
     "name": "stdout",
     "output_type": "stream",
     "text": [
      "array([ -2.61856678,  -0.3535349 , -13.42211592,  10.30612544,\n",
      "       -11.26848812,  -5.28885468,   3.15969713,  -7.82437581,\n",
      "        -6.64730984,  -5.71146329,   3.46488795,  14.40236771])\n"
     ]
    }
   ],
   "source": [
    "print(repr(best_val_w))"
   ]
  },
  {
   "cell_type": "code",
   "execution_count": null,
   "metadata": {},
   "outputs": [
    {
     "name": "stdout",
     "output_type": "stream",
     "text": [
      "Run 1: Cost Val 2.561927900398338 Test 4.783516535821272\n",
      "Run 2: Cost Val 2.6787928916674875 Test 4.869681240767217\n",
      "Run 3: Cost Val 2.7165789575378345 Test 4.753428540705295\n"
     ]
    },
    {
     "data": {
      "image/png": "[encoded data removed]",
      "text/plain": [
       "<Figure size 432x288 with 1 Axes>"
      ]
     },
     "metadata": {
      "needs_background": "light"
     },
     "output_type": "display_data"
    }
   ],
   "source": [
    "import matplotlib.pyplot as plt\n",
    "# Run 3 times because it will be different each time due to randomness...\n",
    "print(f\"Run 1: Cost Val {val_cost(best_val_w, val_angles, val_angles_y)} Test {val_cost(best_val_w, test_angles, test_angles_y)}\")\n",
    "print(f\"Run 2: Cost Val {val_cost(best_val_w, val_angles, val_angles_y)} Test {val_cost(best_val_w, test_angles, test_angles_y)}\")\n",
    "print(f\"Run 3: Cost Val {val_cost(best_val_w, val_angles, val_angles_y)} Test {val_cost(best_val_w, test_angles, test_angles_y)}\")\n",
    "plt.plot(train_costs[::2], label='train')\n",
    "plt.plot(range(0, len(val_costs) * val_freq, val_freq), val_costs, label='val')\n",
    "plt.legend()\n",
    "plt.show()"
   ]
  },
  {
   "cell_type": "markdown",
   "metadata": {},
   "source": [
    "end\n",
    "=============="
   ]
  }
 ],
 "metadata": {
  "kernelspec": {
   "display_name": "Python 3.10.6 ('shell')",
   "language": "python",
   "name": "python3"
  },
  "language_info": {
   "codemirror_mode": {
    "name": "ipython",
    "version": 3
   },
   "file_extension": ".py",
   "mimetype": "text/x-python",
   "name": "python",
   "nbconvert_exporter": "python",
   "pygments_lexer": "ipython3",
   "version": "3.10.6"
  },
  "vscode": {
   "interpreter": {
    "hash": "4038de0031c3eca0fb5eddbf4e04e4daf17a1d48d1a480ba39d74d4e03b4a053"
   }
  },
  "widgets": {
   "application/vnd.jupyter.widget-state+json": {
    "state": {
     "054cdeb1aba34a5eb0b9ccd58c8d067b": {
      "model_module": "@jupyter-widgets/base",
      "model_module_version": "1.2.0",
      "model_name": "LayoutModel",
      "state": {}
     },
     "069849812b5c45bb8bfe6c7c5e23a386": {
      "model_module": "@jupyter-widgets/base",
      "model_module_version": "1.2.0",
      "model_name": "LayoutModel",
      "state": {
       "grid_area": "right",
       "padding": "0px 0px 0px 0px",
       "width": "70px"
      }
     },
     "0b4a0185e5c846009757f21038d50319": {
      "model_module": "@jupyter-widgets/base",
      "model_module_version": "1.2.0",
      "model_name": "LayoutModel",
      "state": {
       "margin": "0px 0px 10px 0px"
      }
     },
     "0d2385df917b4f0cac08338e1b091189": {
      "model_module": "@jupyter-widgets/controls",
      "model_module_version": "1.5.0",
      "model_name": "HTMLModel",
      "state": {
       "layout": "IPY_MODEL_f939952c3f8e41439a75331675c21c03",
       "style": "IPY_MODEL_a5320dee115f49c3832343f88be3a787",
       "value": "<h5>Status</h5>"
      }
     },
     "30d53dee07cb41afa36ac219234302b8": {
      "model_module": "@jupyter-widgets/controls",
      "model_module_version": "1.5.0",
      "model_name": "HBoxModel",
      "state": {
       "children": [
        "IPY_MODEL_58be3709e2d348cbb1fcf1f598c3d1e7",
        "IPY_MODEL_a124af975882493bab46d35944954e12",
        "IPY_MODEL_0d2385df917b4f0cac08338e1b091189",
        "IPY_MODEL_3aa32b79ce2543b2af69bd902861d160",
        "IPY_MODEL_e24a09f168f446c1adda400682d0e9c9"
       ],
       "layout": "IPY_MODEL_a0c5c20b92a947d4af9e0f4df08802b2"
      }
     },
     "312058f0f7c34e14adcaf607d7842958": {
      "model_module": "@jupyter-widgets/controls",
      "model_module_version": "1.5.0",
      "model_name": "HTMLModel",
      "state": {
       "layout": "IPY_MODEL_0b4a0185e5c846009757f21038d50319",
       "style": "IPY_MODEL_f2035068052942ea94c4f6357eb47522",
       "value": "<p style='font-family: IBM Plex Sans, Arial, Helvetica, sans-serif; font-size: 20px; font-weight: medium;'>Circuit Properties</p>"
      }
     },
     "33a01a42c4ea4ee4a4a86beec470625b": {
      "model_module": "@jupyter-widgets/base",
      "model_module_version": "1.2.0",
      "model_name": "LayoutModel",
      "state": {
       "width": "190px"
      }
     },
     "353df14b43e24c4eae60ef863209103f": {
      "model_module": "@jupyter-widgets/controls",
      "model_module_version": "1.5.0",
      "model_name": "ButtonModel",
      "state": {
       "button_style": "primary",
       "description": "Clear",
       "layout": "IPY_MODEL_069849812b5c45bb8bfe6c7c5e23a386",
       "style": "IPY_MODEL_9bd11f9b462740d4bb21dabeef44552c"
      }
     },
     "3aa32b79ce2543b2af69bd902861d160": {
      "model_module": "@jupyter-widgets/controls",
      "model_module_version": "1.5.0",
      "model_name": "HTMLModel",
      "state": {
       "layout": "IPY_MODEL_62740e8b83ba4da092ad574007250e9f",
       "style": "IPY_MODEL_5fe8131a387f4cdcacd5c82c148b7f6e",
       "value": "<h5>Queue</h5>"
      }
     },
     "4e5d3bdfd77f4aa99ae6ff5a143c1c92": {
      "model_module": "@jupyter-widgets/base",
      "model_module_version": "1.2.0",
      "model_name": "LayoutModel",
      "state": {
       "grid_template_areas": "\n                                       \". . . . right \"\n                                        ",
       "grid_template_columns": "20% 20% 20% 20% 20%",
       "width": "100%"
      }
     },
     "58be3709e2d348cbb1fcf1f598c3d1e7": {
      "model_module": "@jupyter-widgets/controls",
      "model_module_version": "1.5.0",
      "model_name": "HTMLModel",
      "state": {
       "layout": "IPY_MODEL_33a01a42c4ea4ee4a4a86beec470625b",
       "style": "IPY_MODEL_b1c91497d6d74e6385fe735009887858",
       "value": "<h5>Job ID</h5>"
      }
     },
     "5fe8131a387f4cdcacd5c82c148b7f6e": {
      "model_module": "@jupyter-widgets/controls",
      "model_module_version": "1.5.0",
      "model_name": "DescriptionStyleModel",
      "state": {
       "description_width": ""
      }
     },
     "62740e8b83ba4da092ad574007250e9f": {
      "model_module": "@jupyter-widgets/base",
      "model_module_version": "1.2.0",
      "model_name": "LayoutModel",
      "state": {
       "width": "70px"
      }
     },
     "64ab19dcefe24c49a2ef0ec33e488685": {
      "model_module": "@jupyter-widgets/base",
      "model_module_version": "1.2.0",
      "model_name": "LayoutModel",
      "state": {
       "width": "145px"
      }
     },
     "65bf3807cf5e4ee7bb246c6f692c51ee": {
      "model_module": "@jupyter-widgets/controls",
      "model_module_version": "1.5.0",
      "model_name": "DescriptionStyleModel",
      "state": {
       "description_width": ""
      }
     },
     "9bd11f9b462740d4bb21dabeef44552c": {
      "model_module": "@jupyter-widgets/controls",
      "model_module_version": "1.5.0",
      "model_name": "ButtonStyleModel",
      "state": {}
     },
     "a0c5c20b92a947d4af9e0f4df08802b2": {
      "model_module": "@jupyter-widgets/base",
      "model_module_version": "1.2.0",
      "model_name": "LayoutModel",
      "state": {
       "margin": "0px 0px 0px 37px",
       "width": "600px"
      }
     },
     "a124af975882493bab46d35944954e12": {
      "model_module": "@jupyter-widgets/controls",
      "model_module_version": "1.5.0",
      "model_name": "HTMLModel",
      "state": {
       "layout": "IPY_MODEL_64ab19dcefe24c49a2ef0ec33e488685",
       "style": "IPY_MODEL_65bf3807cf5e4ee7bb246c6f692c51ee",
       "value": "<h5>Backend</h5>"
      }
     },
     "a5320dee115f49c3832343f88be3a787": {
      "model_module": "@jupyter-widgets/controls",
      "model_module_version": "1.5.0",
      "model_name": "DescriptionStyleModel",
      "state": {
       "description_width": ""
      }
     },
     "b1c91497d6d74e6385fe735009887858": {
      "model_module": "@jupyter-widgets/controls",
      "model_module_version": "1.5.0",
      "model_name": "DescriptionStyleModel",
      "state": {
       "description_width": ""
      }
     },
     "c303602760664066a3ac7c641609688f": {
      "model_module": "@jupyter-widgets/controls",
      "model_module_version": "1.5.0",
      "model_name": "GridBoxModel",
      "state": {
       "children": [
        "IPY_MODEL_353df14b43e24c4eae60ef863209103f"
       ],
       "layout": "IPY_MODEL_4e5d3bdfd77f4aa99ae6ff5a143c1c92"
      }
     },
     "e24a09f168f446c1adda400682d0e9c9": {
      "model_module": "@jupyter-widgets/controls",
      "model_module_version": "1.5.0",
      "model_name": "HTMLModel",
      "state": {
       "layout": "IPY_MODEL_054cdeb1aba34a5eb0b9ccd58c8d067b",
       "style": "IPY_MODEL_fa90ee2af135426e83c56c4230cd9173",
       "value": "<h5>Message</h5>"
      }
     },
     "f2035068052942ea94c4f6357eb47522": {
      "model_module": "@jupyter-widgets/controls",
      "model_module_version": "1.5.0",
      "model_name": "DescriptionStyleModel",
      "state": {
       "description_width": ""
      }
     },
     "f939952c3f8e41439a75331675c21c03": {
      "model_module": "@jupyter-widgets/base",
      "model_module_version": "1.2.0",
      "model_name": "LayoutModel",
      "state": {
       "width": "95px"
      }
     },
     "fa90ee2af135426e83c56c4230cd9173": {
      "model_module": "@jupyter-widgets/controls",
      "model_module_version": "1.5.0",
      "model_name": "DescriptionStyleModel",
      "state": {
       "description_width": ""
      }
     }
    },
    "version_major": 2,
    "version_minor": 0
   }
  }
 },
 "nbformat": 4,
 "nbformat_minor": 4
}
